{
 "metadata": {
  "name": ""
 },
 "nbformat": 3,
 "nbformat_minor": 0,
 "worksheets": [
  {
   "cells": [
    {
     "cell_type": "markdown",
     "metadata": {},
     "source": [
      "###Exercise from http://www.nltk.org/book_1ed/ch10.html\n",
      "###Author : Nirmal kumar Ravi"
     ]
    },
    {
     "cell_type": "code",
     "collapsed": false,
     "input": [
      "import nltk\n",
      "lp = nltk.sem.Expression.fromstring"
     ],
     "language": "python",
     "metadata": {},
     "outputs": [],
     "prompt_number": 5
    },
    {
     "cell_type": "markdown",
     "metadata": {},
     "source": [
      "> Translate the following sentences into propositional logic and verify that they parse with LogicParser. Provide a key which shows how the propositional variables in your translation correspond to expressions of English.\n",
      "\n",
      "* If Angus sings, it is not the case that Bertie sulks.\n",
      "* Cyril runs and barks.\n",
      "* It will snow if it doesn't rain.\n",
      "* It's not the case that Irene will be happy if Olive or Tofu comes.\n",
      "* Pat didn't cough or sneeze.\n",
      "* If you don't come if I call, I won't come if you call."
     ]
    },
    {
     "cell_type": "code",
     "collapsed": false,
     "input": [
      "p = 'Angus sings'\n",
      "q = 'Bertie sulks'\n",
      "lp('p->-q')"
     ],
     "language": "python",
     "metadata": {},
     "outputs": [
      {
       "metadata": {},
       "output_type": "pyout",
       "prompt_number": 7,
       "text": [
        "<ImpExpression (p -> -q)>"
       ]
      }
     ],
     "prompt_number": 7
    },
    {
     "cell_type": "code",
     "collapsed": false,
     "input": [
      "p = 'Cyril runs'\n",
      "q = 'Cyril barks'\n",
      "lp('p & q')"
     ],
     "language": "python",
     "metadata": {},
     "outputs": [
      {
       "metadata": {},
       "output_type": "pyout",
       "prompt_number": 8,
       "text": [
        "<AndExpression (p & q)>"
       ]
      }
     ],
     "prompt_number": 8
    },
    {
     "cell_type": "code",
     "collapsed": false,
     "input": [
      "p = 'rain'\n",
      "q = 'snow'\n",
      "lp('-p -> q')"
     ],
     "language": "python",
     "metadata": {},
     "outputs": [
      {
       "metadata": {},
       "output_type": "pyout",
       "prompt_number": 9,
       "text": [
        "<ImpExpression (-p -> q)>"
       ]
      }
     ],
     "prompt_number": 9
    },
    {
     "cell_type": "code",
     "collapsed": false,
     "input": [
      "p = 'Olive comes'\n",
      "q = 'Tofu comes'\n",
      "r = 'Irene will be happy'\n",
      "lp('(p|q)-> -r')"
     ],
     "language": "python",
     "metadata": {},
     "outputs": [
      {
       "metadata": {},
       "output_type": "pyout",
       "prompt_number": 10,
       "text": [
        "<ImpExpression ((p | q) -> -r)>"
       ]
      }
     ],
     "prompt_number": 10
    },
    {
     "cell_type": "code",
     "collapsed": false,
     "input": [
      "p = 'Pat cough'\n",
      "q = 'Pat sneeze'\n",
      "lp('-p|-q')"
     ],
     "language": "python",
     "metadata": {},
     "outputs": [
      {
       "metadata": {},
       "output_type": "pyout",
       "prompt_number": 11,
       "text": [
        "<OrExpression (-p | -q)>"
       ]
      }
     ],
     "prompt_number": 11
    },
    {
     "cell_type": "code",
     "collapsed": false,
     "input": [
      "p = 'I call'\n",
      "q = 'you come'\n",
      "r = 'You call'\n",
      "s = 'I come'\n",
      "lp('(p->-q)-> (r->-s)')"
     ],
     "language": "python",
     "metadata": {},
     "outputs": [
      {
       "metadata": {},
       "output_type": "pyout",
       "prompt_number": 12,
       "text": [
        "<ImpExpression ((p -> -q) -> (r -> -s))>"
       ]
      }
     ],
     "prompt_number": 12
    },
    {
     "cell_type": "markdown",
     "metadata": {},
     "source": [
      "> Translate the following sentences into predicate-argument formula of first order logic.\n",
      "\n",
      "* Angus likes Cyril and Irene hates Cyril.\n",
      "* Tofu is taller than Bertie.\n",
      "* Bruce loves himself and Pat does too.\n",
      "* Cyril saw Bertie, but Angus didn't.\n",
      "* Cyril is a fourlegged friend.\n",
      "* Tofu and Olive are near each other.\n"
     ]
    },
    {
     "cell_type": "code",
     "collapsed": false,
     "input": [
      "lp('like(Angus,Cyril) & hate(Irene,Cyril)')"
     ],
     "language": "python",
     "metadata": {},
     "outputs": [
      {
       "metadata": {},
       "output_type": "pyout",
       "prompt_number": 13,
       "text": [
        "<AndExpression (like(Angus,Cyril) & hate(Irene,Cyril))>"
       ]
      }
     ],
     "prompt_number": 13
    },
    {
     "cell_type": "code",
     "collapsed": false,
     "input": [
      "lp('taller(Tofu,Bertie)')"
     ],
     "language": "python",
     "metadata": {},
     "outputs": [
      {
       "metadata": {},
       "output_type": "pyout",
       "prompt_number": 14,
       "text": [
        "<ApplicationExpression taller(Tofu,Bertie)>"
       ]
      }
     ],
     "prompt_number": 14
    },
    {
     "cell_type": "code",
     "collapsed": false,
     "input": [
      "lp('loveshimself(Bruse) & loveshimself(Pat)')"
     ],
     "language": "python",
     "metadata": {},
     "outputs": [
      {
       "metadata": {},
       "output_type": "pyout",
       "prompt_number": 15,
       "text": [
        "<AndExpression (loveshimself(Bruse) & loveshimself(Pat))>"
       ]
      }
     ],
     "prompt_number": 15
    },
    {
     "cell_type": "code",
     "collapsed": false,
     "input": [
      "lp('saw(cyril,Bertie) & -saw(cyril,Angus)')"
     ],
     "language": "python",
     "metadata": {},
     "outputs": [
      {
       "metadata": {},
       "output_type": "pyout",
       "prompt_number": 16,
       "text": [
        "<AndExpression (saw(cyril,Bertie) & -saw(cyril,Angus))>"
       ]
      }
     ],
     "prompt_number": 16
    },
    {
     "cell_type": "code",
     "collapsed": false,
     "input": [
      "lp('fourleggedfriend(Cyril)')"
     ],
     "language": "python",
     "metadata": {},
     "outputs": [
      {
       "metadata": {},
       "output_type": "pyout",
       "prompt_number": 17,
       "text": [
        "<ApplicationExpression fourleggedfriend(Cyril)>"
       ]
      }
     ],
     "prompt_number": 17
    },
    {
     "cell_type": "code",
     "collapsed": false,
     "input": [
      "lp('neareachother(Tofu,Olive)')"
     ],
     "language": "python",
     "metadata": {},
     "outputs": [
      {
       "metadata": {},
       "output_type": "pyout",
       "prompt_number": 18,
       "text": [
        "<ApplicationExpression neareachother(Tofu,Olive)>"
       ]
      }
     ],
     "prompt_number": 18
    },
    {
     "cell_type": "markdown",
     "metadata": {},
     "source": [
      ">  Translate the following sentences into quantified formulas of first order logic.\n",
      "\n",
      "* Angus likes someone and someone likes Julia.\n",
      "* Angus loves a dog who loves him.\n",
      "* Nobody smiles at Pat.\n",
      "* Somebody coughs and sneezes.\n",
      "* Nobody coughed or sneezed.\n",
      "* Bruce loves somebody other than Bruce.\n",
      "* Nobody other than Matthew loves somebody Pat.\n",
      "* Cyril likes everyone except for Irene.\n",
      "* Exactly one person is asleep."
     ]
    },
    {
     "cell_type": "code",
     "collapsed": false,
     "input": [
      "lp('(exists x. likes(Angus,x) & exists y. likes(y,Julia))')"
     ],
     "language": "python",
     "metadata": {},
     "outputs": [
      {
       "metadata": {},
       "output_type": "pyout",
       "prompt_number": 19,
       "text": [
        "<AndExpression (exists x.likes(Angus,x) & exists y.likes(y,Julia))>"
       ]
      }
     ],
     "prompt_number": 19
    },
    {
     "cell_type": "code",
     "collapsed": false,
     "input": [
      "lp('-exists x. smiles(x,Pat)')"
     ],
     "language": "python",
     "metadata": {},
     "outputs": [
      {
       "metadata": {},
       "output_type": "pyout",
       "prompt_number": 20,
       "text": [
        "<NegatedExpression -exists x.smiles(x,Pat)>"
       ]
      }
     ],
     "prompt_number": 20
    },
    {
     "cell_type": "code",
     "collapsed": false,
     "input": [
      "lp('-exists x. (cough(x) | sneeze(x))')"
     ],
     "language": "python",
     "metadata": {},
     "outputs": [
      {
       "metadata": {},
       "output_type": "pyout",
       "prompt_number": 21,
       "text": [
        "<NegatedExpression -exists x.(cough(x) | sneeze(x))>"
       ]
      }
     ],
     "prompt_number": 21
    },
    {
     "cell_type": "code",
     "collapsed": false,
     "input": [
      "lp('exists x. (asleep(x) & all y. (asleep(y) -> (y = x)))')"
     ],
     "language": "python",
     "metadata": {},
     "outputs": [
      {
       "metadata": {},
       "output_type": "pyout",
       "prompt_number": 25,
       "text": [
        "<ExistsExpression exists x.(asleep(x) & all y.(asleep(y) -> (y = x)))>"
       ]
      }
     ],
     "prompt_number": 25
    },
    {
     "cell_type": "markdown",
     "metadata": {},
     "source": [
      "> Translate the following verb phrases using \u03bb abstracts. quantified formulas of first order logic.\n",
      "\n",
      "* feed Cyril and give a capuccino to Angus\n",
      "* be given 'War and Peace' by Pat\n",
      "* be loved by everyone\n",
      "* be loved or detested by everyone\n",
      "* be loved by everyone and detested by no-one\n"
     ]
    },
    {
     "cell_type": "code",
     "collapsed": false,
     "input": [
      "lp('\\\\x. all y. love(y,x)')"
     ],
     "language": "python",
     "metadata": {},
     "outputs": [
      {
       "metadata": {},
       "output_type": "pyout",
       "prompt_number": 26,
       "text": [
        "<LambdaExpression \\x.all y.love(y,x)>"
       ]
      }
     ],
     "prompt_number": 26
    },
    {
     "cell_type": "code",
     "collapsed": false,
     "input": [
      "lp('\\\\x. all y. (love(y,x) | detested(y,x))')"
     ],
     "language": "python",
     "metadata": {},
     "outputs": [
      {
       "metadata": {},
       "output_type": "pyout",
       "prompt_number": 27,
       "text": [
        "<LambdaExpression \\x.all y.(love(y,x) | detested(y,x))>"
       ]
      }
     ],
     "prompt_number": 27
    },
    {
     "cell_type": "code",
     "collapsed": false,
     "input": [
      " lp('\\\\x. (all y. love(y,x) & -exists z. detested(z,x))')"
     ],
     "language": "python",
     "metadata": {},
     "outputs": [
      {
       "metadata": {},
       "output_type": "pyout",
       "prompt_number": 28,
       "text": [
        "<LambdaExpression \\x.(all y.love(y,x) & -exists z.detested(z,x))>"
       ]
      }
     ],
     "prompt_number": 28
    }
   ],
   "metadata": {}
  }
 ]
}