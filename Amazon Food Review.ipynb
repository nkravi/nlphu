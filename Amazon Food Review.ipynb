{
 "cells": [
  {
   "cell_type": "markdown",
   "metadata": {},
   "source": [
    "# Amazon food reviews Prediction"
   ]
  },
  {
   "cell_type": "markdown",
   "metadata": {},
   "source": [
    "> This Dataset contains 568,455 reviews by customers on products.\n",
    "> The columns in the table are:\n",
    "* Id\n",
    "* ProductId - unique identifier for the product\n",
    "* UserId - unqiue identifier for the user\n",
    "* ProfileName\n",
    "* HelpfulnessNumerator - number of users who found the review helpful\n",
    "* HelpfulnessDenominator - number of users who indicated whether they found the review helpful\n",
    "* Score - rating between 1 and 5\n",
    "* Time - timestamp for the review\n",
    "* Summary - brief summary of the review\n",
    "* Text - text of the review"
   ]
  },
  {
   "cell_type": "markdown",
   "metadata": {},
   "source": [
    "### Load the Dataset"
   ]
  },
  {
   "cell_type": "code",
   "execution_count": 1,
   "metadata": {
    "collapsed": false
   },
   "outputs": [],
   "source": [
    "import sqlite3\n",
    "import pandas as pd\n",
    "con = sqlite3.connect('database.sqlite')"
   ]
  },
  {
   "cell_type": "code",
   "execution_count": 2,
   "metadata": {
    "collapsed": true
   },
   "outputs": [],
   "source": [
    "dat = pd.read_sql_query(\"\"\"SELECT * FROM Reviews\"\"\", con)"
   ]
  },
  {
   "cell_type": "code",
   "execution_count": 3,
   "metadata": {
    "collapsed": false
   },
   "outputs": [
    {
     "data": {
      "text/html": [
       "<div>\n",
       "<table border=\"1\" class=\"dataframe\">\n",
       "  <thead>\n",
       "    <tr style=\"text-align: right;\">\n",
       "      <th></th>\n",
       "      <th>Id</th>\n",
       "      <th>ProductId</th>\n",
       "      <th>UserId</th>\n",
       "      <th>ProfileName</th>\n",
       "      <th>HelpfulnessNumerator</th>\n",
       "      <th>HelpfulnessDenominator</th>\n",
       "      <th>Score</th>\n",
       "      <th>Time</th>\n",
       "      <th>Summary</th>\n",
       "      <th>Text</th>\n",
       "    </tr>\n",
       "  </thead>\n",
       "  <tbody>\n",
       "    <tr>\n",
       "      <th>0</th>\n",
       "      <td>1</td>\n",
       "      <td>B001E4KFG0</td>\n",
       "      <td>A3SGXH7AUHU8GW</td>\n",
       "      <td>delmartian</td>\n",
       "      <td>1</td>\n",
       "      <td>1</td>\n",
       "      <td>5</td>\n",
       "      <td>1303862400</td>\n",
       "      <td>Good Quality Dog Food</td>\n",
       "      <td>I have bought several of the Vitality canned d...</td>\n",
       "    </tr>\n",
       "    <tr>\n",
       "      <th>1</th>\n",
       "      <td>2</td>\n",
       "      <td>B00813GRG4</td>\n",
       "      <td>A1D87F6ZCVE5NK</td>\n",
       "      <td>dll pa</td>\n",
       "      <td>0</td>\n",
       "      <td>0</td>\n",
       "      <td>1</td>\n",
       "      <td>1346976000</td>\n",
       "      <td>Not as Advertised</td>\n",
       "      <td>Product arrived labeled as Jumbo Salted Peanut...</td>\n",
       "    </tr>\n",
       "    <tr>\n",
       "      <th>2</th>\n",
       "      <td>3</td>\n",
       "      <td>B000LQOCH0</td>\n",
       "      <td>ABXLMWJIXXAIN</td>\n",
       "      <td>Natalia Corres \"Natalia Corres\"</td>\n",
       "      <td>1</td>\n",
       "      <td>1</td>\n",
       "      <td>4</td>\n",
       "      <td>1219017600</td>\n",
       "      <td>\"Delight\" says it all</td>\n",
       "      <td>This is a confection that has been around a fe...</td>\n",
       "    </tr>\n",
       "    <tr>\n",
       "      <th>3</th>\n",
       "      <td>4</td>\n",
       "      <td>B000UA0QIQ</td>\n",
       "      <td>A395BORC6FGVXV</td>\n",
       "      <td>Karl</td>\n",
       "      <td>3</td>\n",
       "      <td>3</td>\n",
       "      <td>2</td>\n",
       "      <td>1307923200</td>\n",
       "      <td>Cough Medicine</td>\n",
       "      <td>If you are looking for the secret ingredient i...</td>\n",
       "    </tr>\n",
       "    <tr>\n",
       "      <th>4</th>\n",
       "      <td>5</td>\n",
       "      <td>B006K2ZZ7K</td>\n",
       "      <td>A1UQRSCLF8GW1T</td>\n",
       "      <td>Michael D. Bigham \"M. Wassir\"</td>\n",
       "      <td>0</td>\n",
       "      <td>0</td>\n",
       "      <td>5</td>\n",
       "      <td>1350777600</td>\n",
       "      <td>Great taffy</td>\n",
       "      <td>Great taffy at a great price.  There was a wid...</td>\n",
       "    </tr>\n",
       "  </tbody>\n",
       "</table>\n",
       "</div>"
      ],
      "text/plain": [
       "   Id   ProductId          UserId                      ProfileName  \\\n",
       "0   1  B001E4KFG0  A3SGXH7AUHU8GW                       delmartian   \n",
       "1   2  B00813GRG4  A1D87F6ZCVE5NK                           dll pa   \n",
       "2   3  B000LQOCH0   ABXLMWJIXXAIN  Natalia Corres \"Natalia Corres\"   \n",
       "3   4  B000UA0QIQ  A395BORC6FGVXV                             Karl   \n",
       "4   5  B006K2ZZ7K  A1UQRSCLF8GW1T    Michael D. Bigham \"M. Wassir\"   \n",
       "\n",
       "   HelpfulnessNumerator  HelpfulnessDenominator  Score        Time  \\\n",
       "0                     1                       1      5  1303862400   \n",
       "1                     0                       0      1  1346976000   \n",
       "2                     1                       1      4  1219017600   \n",
       "3                     3                       3      2  1307923200   \n",
       "4                     0                       0      5  1350777600   \n",
       "\n",
       "                 Summary                                               Text  \n",
       "0  Good Quality Dog Food  I have bought several of the Vitality canned d...  \n",
       "1      Not as Advertised  Product arrived labeled as Jumbo Salted Peanut...  \n",
       "2  \"Delight\" says it all  This is a confection that has been around a fe...  \n",
       "3         Cough Medicine  If you are looking for the secret ingredient i...  \n",
       "4            Great taffy  Great taffy at a great price.  There was a wid...  "
      ]
     },
     "execution_count": 3,
     "metadata": {},
     "output_type": "execute_result"
    }
   ],
   "source": [
    "dat.head(5)"
   ]
  },
  {
   "cell_type": "code",
   "execution_count": 18,
   "metadata": {
    "collapsed": false
   },
   "outputs": [],
   "source": [
    "import matplotlib.pyplot as plt\n",
    "%matplotlib inline"
   ]
  },
  {
   "cell_type": "code",
   "execution_count": 53,
   "metadata": {
    "collapsed": false
   },
   "outputs": [
    {
     "name": "stdout",
     "output_type": "stream",
     "text": [
      "There are 0.130632 percentage unique products\n"
     ]
    }
   ],
   "source": [
    "print 'There are %f percentage unique products'% (len(set(dat['ProductId']))/(len(dat['ProductId'])*1.))"
   ]
  },
  {
   "cell_type": "code",
   "execution_count": 54,
   "metadata": {
    "collapsed": false
   },
   "outputs": [
    {
     "name": "stdout",
     "output_type": "stream",
     "text": [
      "There are 0.450448 percentage unique customers\n"
     ]
    }
   ],
   "source": [
    "print 'There are %f percentage unique customers'% (len(set(dat['UserId']))/(len(dat['UserId'])*1.))"
   ]
  },
  {
   "cell_type": "code",
   "execution_count": 55,
   "metadata": {
    "collapsed": false
   },
   "outputs": [
    {
     "data": {
      "text/plain": [
       "<matplotlib.axes._subplots.AxesSubplot at 0x36003fb0>"
      ]
     },
     "execution_count": 55,
     "metadata": {},
     "output_type": "execute_result"
    },
    {
     "data": {
      "image/png": "[encoded data removed]",
      "text/plain": [
       "<matplotlib.figure.Figure at 0x3637ce30>"
      ]
     },
     "metadata": {},
     "output_type": "display_data"
    }
   ],
   "source": [
    "dat['Score'].plot.hist()"
   ]
  },
  {
   "cell_type": "markdown",
   "metadata": {},
   "source": [
    "#### The plot shows that there are more positive reviews. Lets Split 4,5 as positive and 1,2,3 as negative reviews for our prediction"
   ]
  },
  {
   "cell_type": "code",
   "execution_count": 4,
   "metadata": {
    "collapsed": false
   },
   "outputs": [],
   "source": [
    "def labelData(score):\n",
    "    if score >= 4:\n",
    "        return 'positive'\n",
    "    return 'negative'\n",
    "\n",
    "dat['PScore'] = dat['Score'].map(labelData)"
   ]
  },
  {
   "cell_type": "code",
   "execution_count": 5,
   "metadata": {
    "collapsed": false
   },
   "outputs": [
    {
     "data": {
      "text/html": [
       "<div>\n",
       "<table border=\"1\" class=\"dataframe\">\n",
       "  <thead>\n",
       "    <tr style=\"text-align: right;\">\n",
       "      <th></th>\n",
       "      <th>Score</th>\n",
       "      <th>PScore</th>\n",
       "    </tr>\n",
       "  </thead>\n",
       "  <tbody>\n",
       "    <tr>\n",
       "      <th>0</th>\n",
       "      <td>5</td>\n",
       "      <td>positive</td>\n",
       "    </tr>\n",
       "    <tr>\n",
       "      <th>1</th>\n",
       "      <td>1</td>\n",
       "      <td>negative</td>\n",
       "    </tr>\n",
       "    <tr>\n",
       "      <th>2</th>\n",
       "      <td>4</td>\n",
       "      <td>positive</td>\n",
       "    </tr>\n",
       "    <tr>\n",
       "      <th>3</th>\n",
       "      <td>2</td>\n",
       "      <td>negative</td>\n",
       "    </tr>\n",
       "    <tr>\n",
       "      <th>4</th>\n",
       "      <td>5</td>\n",
       "      <td>positive</td>\n",
       "    </tr>\n",
       "  </tbody>\n",
       "</table>\n",
       "</div>"
      ],
      "text/plain": [
       "   Score    PScore\n",
       "0      5  positive\n",
       "1      1  negative\n",
       "2      4  positive\n",
       "3      2  negative\n",
       "4      5  positive"
      ]
     },
     "execution_count": 5,
     "metadata": {},
     "output_type": "execute_result"
    }
   ],
   "source": [
    "dat[['Score','PScore']].head(5)"
   ]
  },
  {
   "cell_type": "markdown",
   "metadata": {},
   "source": [
    "#### we can also combine summary and text."
   ]
  },
  {
   "cell_type": "code",
   "execution_count": 6,
   "metadata": {
    "collapsed": false
   },
   "outputs": [],
   "source": [
    "def combineText(row):\n",
    "    return row['Summary'] +\" \"+ row['Text']\n",
    "\n",
    "dat['reviews'] = dat.apply(combineText,axis=1)"
   ]
  },
  {
   "cell_type": "code",
   "execution_count": 7,
   "metadata": {
    "collapsed": false
   },
   "outputs": [
    {
     "data": {
      "text/html": [
       "<div>\n",
       "<table border=\"1\" class=\"dataframe\">\n",
       "  <thead>\n",
       "    <tr style=\"text-align: right;\">\n",
       "      <th></th>\n",
       "      <th>reviews</th>\n",
       "      <th>PScore</th>\n",
       "    </tr>\n",
       "  </thead>\n",
       "  <tbody>\n",
       "    <tr>\n",
       "      <th>0</th>\n",
       "      <td>Good Quality Dog Food I have bought several of...</td>\n",
       "      <td>positive</td>\n",
       "    </tr>\n",
       "    <tr>\n",
       "      <th>1</th>\n",
       "      <td>Not as Advertised Product arrived labeled as J...</td>\n",
       "      <td>negative</td>\n",
       "    </tr>\n",
       "    <tr>\n",
       "      <th>2</th>\n",
       "      <td>\"Delight\" says it all This is a confection tha...</td>\n",
       "      <td>positive</td>\n",
       "    </tr>\n",
       "    <tr>\n",
       "      <th>3</th>\n",
       "      <td>Cough Medicine If you are looking for the secr...</td>\n",
       "      <td>negative</td>\n",
       "    </tr>\n",
       "    <tr>\n",
       "      <th>4</th>\n",
       "      <td>Great taffy Great taffy at a great price.  The...</td>\n",
       "      <td>positive</td>\n",
       "    </tr>\n",
       "  </tbody>\n",
       "</table>\n",
       "</div>"
      ],
      "text/plain": [
       "                                             reviews    PScore\n",
       "0  Good Quality Dog Food I have bought several of...  positive\n",
       "1  Not as Advertised Product arrived labeled as J...  negative\n",
       "2  \"Delight\" says it all This is a confection tha...  positive\n",
       "3  Cough Medicine If you are looking for the secr...  negative\n",
       "4  Great taffy Great taffy at a great price.  The...  positive"
      ]
     },
     "execution_count": 7,
     "metadata": {},
     "output_type": "execute_result"
    }
   ],
   "source": [
    "dat[['reviews','PScore']].head(5)"
   ]
  },
  {
   "cell_type": "markdown",
   "metadata": {},
   "source": [
    "### save dataframe to disk"
   ]
  },
  {
   "cell_type": "code",
   "execution_count": 8,
   "metadata": {
    "collapsed": true
   },
   "outputs": [],
   "source": [
    "dat[['reviews','PScore']].to_pickle('amzreviews')"
   ]
  },
  {
   "cell_type": "markdown",
   "metadata": {},
   "source": [
    "### Read Data back for further processing"
   ]
  },
  {
   "cell_type": "code",
   "execution_count": 20,
   "metadata": {
    "collapsed": false
   },
   "outputs": [],
   "source": [
    "dat = pd.read_pickle('amzreviews')"
   ]
  },
  {
   "cell_type": "code",
   "execution_count": 21,
   "metadata": {
    "collapsed": false
   },
   "outputs": [
    {
     "data": {
      "text/html": [
       "<div>\n",
       "<table border=\"1\" class=\"dataframe\">\n",
       "  <thead>\n",
       "    <tr style=\"text-align: right;\">\n",
       "      <th></th>\n",
       "      <th>reviews</th>\n",
       "      <th>PScore</th>\n",
       "    </tr>\n",
       "  </thead>\n",
       "  <tbody>\n",
       "    <tr>\n",
       "      <th>0</th>\n",
       "      <td>Good Quality Dog Food I have bought several of...</td>\n",
       "      <td>positive</td>\n",
       "    </tr>\n",
       "    <tr>\n",
       "      <th>1</th>\n",
       "      <td>Not as Advertised Product arrived labeled as J...</td>\n",
       "      <td>negative</td>\n",
       "    </tr>\n",
       "    <tr>\n",
       "      <th>2</th>\n",
       "      <td>\"Delight\" says it all This is a confection tha...</td>\n",
       "      <td>positive</td>\n",
       "    </tr>\n",
       "    <tr>\n",
       "      <th>3</th>\n",
       "      <td>Cough Medicine If you are looking for the secr...</td>\n",
       "      <td>negative</td>\n",
       "    </tr>\n",
       "    <tr>\n",
       "      <th>4</th>\n",
       "      <td>Great taffy Great taffy at a great price.  The...</td>\n",
       "      <td>positive</td>\n",
       "    </tr>\n",
       "  </tbody>\n",
       "</table>\n",
       "</div>"
      ],
      "text/plain": [
       "                                             reviews    PScore\n",
       "0  Good Quality Dog Food I have bought several of...  positive\n",
       "1  Not as Advertised Product arrived labeled as J...  negative\n",
       "2  \"Delight\" says it all This is a confection tha...  positive\n",
       "3  Cough Medicine If you are looking for the secr...  negative\n",
       "4  Great taffy Great taffy at a great price.  The...  positive"
      ]
     },
     "execution_count": 21,
     "metadata": {},
     "output_type": "execute_result"
    }
   ],
   "source": [
    "dat.head(5)"
   ]
  },
  {
   "cell_type": "markdown",
   "metadata": {},
   "source": [
    "## Use nltk to clean the data (we select 10000 rows to avoid memory error)"
   ]
  },
  {
   "cell_type": "code",
   "execution_count": 22,
   "metadata": {
    "collapsed": false
   },
   "outputs": [],
   "source": [
    "reviews = dat['reviews'].tolist()[:10000]"
   ]
  },
  {
   "cell_type": "code",
   "execution_count": 23,
   "metadata": {
    "collapsed": false
   },
   "outputs": [
    {
     "data": {
      "text/plain": [
       "[u'Good Quality Dog Food I have bought several of the Vitality canned dog food products and have found them all to be of good quality. The product looks more like a stew than a processed meat and it smells better. My Labrador is finicky and she appreciates this product better than  most.',\n",
       " u'Not as Advertised Product arrived labeled as Jumbo Salted Peanuts...the peanuts were actually small sized unsalted. Not sure if this was an error or if the vendor intended to represent the product as \"Jumbo\".']"
      ]
     },
     "execution_count": 23,
     "metadata": {},
     "output_type": "execute_result"
    }
   ],
   "source": [
    "reviews[:2]"
   ]
  },
  {
   "cell_type": "code",
   "execution_count": 24,
   "metadata": {
    "collapsed": false
   },
   "outputs": [
    {
     "data": {
      "text/plain": [
       "10000"
      ]
     },
     "execution_count": 24,
     "metadata": {},
     "output_type": "execute_result"
    }
   ],
   "source": [
    "len(reviews)"
   ]
  },
  {
   "cell_type": "markdown",
   "metadata": {},
   "source": [
    "### Tokenize words"
   ]
  },
  {
   "cell_type": "code",
   "execution_count": 27,
   "metadata": {
    "collapsed": true
   },
   "outputs": [],
   "source": [
    "from nltk.tokenize import word_tokenize"
   ]
  },
  {
   "cell_type": "code",
   "execution_count": 28,
   "metadata": {
    "collapsed": false
   },
   "outputs": [
    {
     "name": "stdout",
     "output_type": "stream",
     "text": [
      "10000\n"
     ]
    }
   ],
   "source": [
    "tokenized_reviews = []\n",
    "\n",
    "for doc in reviews:\n",
    "    tokenized_reviews.append(word_tokenize(doc))\n",
    "    if len(tokenized_reviews) % 10000 == 0:\n",
    "        print len(tokenized_reviews)"
   ]
  },
  {
   "cell_type": "code",
   "execution_count": 29,
   "metadata": {
    "collapsed": false
   },
   "outputs": [
    {
     "data": {
      "text/plain": [
       "[[u'Good',\n",
       "  u'Quality',\n",
       "  u'Dog',\n",
       "  u'Food',\n",
       "  u'I',\n",
       "  u'have',\n",
       "  u'bought',\n",
       "  u'several',\n",
       "  u'of',\n",
       "  u'the',\n",
       "  u'Vitality',\n",
       "  u'canned',\n",
       "  u'dog',\n",
       "  u'food',\n",
       "  u'products',\n",
       "  u'and',\n",
       "  u'have',\n",
       "  u'found',\n",
       "  u'them',\n",
       "  u'all',\n",
       "  u'to',\n",
       "  u'be',\n",
       "  u'of',\n",
       "  u'good',\n",
       "  u'quality',\n",
       "  u'.',\n",
       "  u'The',\n",
       "  u'product',\n",
       "  u'looks',\n",
       "  u'more',\n",
       "  u'like',\n",
       "  u'a',\n",
       "  u'stew',\n",
       "  u'than',\n",
       "  u'a',\n",
       "  u'processed',\n",
       "  u'meat',\n",
       "  u'and',\n",
       "  u'it',\n",
       "  u'smells',\n",
       "  u'better',\n",
       "  u'.',\n",
       "  u'My',\n",
       "  u'Labrador',\n",
       "  u'is',\n",
       "  u'finicky',\n",
       "  u'and',\n",
       "  u'she',\n",
       "  u'appreciates',\n",
       "  u'this',\n",
       "  u'product',\n",
       "  u'better',\n",
       "  u'than',\n",
       "  u'most',\n",
       "  u'.'],\n",
       " [u'Not',\n",
       "  u'as',\n",
       "  u'Advertised',\n",
       "  u'Product',\n",
       "  u'arrived',\n",
       "  u'labeled',\n",
       "  u'as',\n",
       "  u'Jumbo',\n",
       "  u'Salted',\n",
       "  u'Peanuts',\n",
       "  u'...',\n",
       "  u'the',\n",
       "  u'peanuts',\n",
       "  u'were',\n",
       "  u'actually',\n",
       "  u'small',\n",
       "  u'sized',\n",
       "  u'unsalted',\n",
       "  u'.',\n",
       "  u'Not',\n",
       "  u'sure',\n",
       "  u'if',\n",
       "  u'this',\n",
       "  u'was',\n",
       "  u'an',\n",
       "  u'error',\n",
       "  u'or',\n",
       "  u'if',\n",
       "  u'the',\n",
       "  u'vendor',\n",
       "  u'intended',\n",
       "  u'to',\n",
       "  u'represent',\n",
       "  u'the',\n",
       "  u'product',\n",
       "  u'as',\n",
       "  u'``',\n",
       "  u'Jumbo',\n",
       "  u\"''\",\n",
       "  u'.'],\n",
       " [u'``',\n",
       "  u'Delight',\n",
       "  u\"''\",\n",
       "  u'says',\n",
       "  u'it',\n",
       "  u'all',\n",
       "  u'This',\n",
       "  u'is',\n",
       "  u'a',\n",
       "  u'confection',\n",
       "  u'that',\n",
       "  u'has',\n",
       "  u'been',\n",
       "  u'around',\n",
       "  u'a',\n",
       "  u'few',\n",
       "  u'centuries',\n",
       "  u'.',\n",
       "  u'It',\n",
       "  u'is',\n",
       "  u'a',\n",
       "  u'light',\n",
       "  u',',\n",
       "  u'pillowy',\n",
       "  u'citrus',\n",
       "  u'gelatin',\n",
       "  u'with',\n",
       "  u'nuts',\n",
       "  u'-',\n",
       "  u'in',\n",
       "  u'this',\n",
       "  u'case',\n",
       "  u'Filberts',\n",
       "  u'.',\n",
       "  u'And',\n",
       "  u'it',\n",
       "  u'is',\n",
       "  u'cut',\n",
       "  u'into',\n",
       "  u'tiny',\n",
       "  u'squares',\n",
       "  u'and',\n",
       "  u'then',\n",
       "  u'liberally',\n",
       "  u'coated',\n",
       "  u'with',\n",
       "  u'powdered',\n",
       "  u'sugar',\n",
       "  u'.',\n",
       "  u'And',\n",
       "  u'it',\n",
       "  u'is',\n",
       "  u'a',\n",
       "  u'tiny',\n",
       "  u'mouthful',\n",
       "  u'of',\n",
       "  u'heaven',\n",
       "  u'.',\n",
       "  u'Not',\n",
       "  u'too',\n",
       "  u'chewy',\n",
       "  u',',\n",
       "  u'and',\n",
       "  u'very',\n",
       "  u'flavorful',\n",
       "  u'.',\n",
       "  u'I',\n",
       "  u'highly',\n",
       "  u'recommend',\n",
       "  u'this',\n",
       "  u'yummy',\n",
       "  u'treat',\n",
       "  u'.',\n",
       "  u'If',\n",
       "  u'you',\n",
       "  u'are',\n",
       "  u'familiar',\n",
       "  u'with',\n",
       "  u'the',\n",
       "  u'story',\n",
       "  u'of',\n",
       "  u'C.S',\n",
       "  u'.',\n",
       "  u'Lewis',\n",
       "  u\"'\",\n",
       "  u'``',\n",
       "  u'The',\n",
       "  u'Lion',\n",
       "  u',',\n",
       "  u'The',\n",
       "  u'Witch',\n",
       "  u',',\n",
       "  u'and',\n",
       "  u'The',\n",
       "  u'Wardrobe',\n",
       "  u\"''\",\n",
       "  u'-',\n",
       "  u'this',\n",
       "  u'is',\n",
       "  u'the',\n",
       "  u'treat',\n",
       "  u'that',\n",
       "  u'seduces',\n",
       "  u'Edmund',\n",
       "  u'into',\n",
       "  u'selling',\n",
       "  u'out',\n",
       "  u'his',\n",
       "  u'Brother',\n",
       "  u'and',\n",
       "  u'Sisters',\n",
       "  u'to',\n",
       "  u'the',\n",
       "  u'Witch',\n",
       "  u'.']]"
      ]
     },
     "execution_count": 29,
     "metadata": {},
     "output_type": "execute_result"
    }
   ],
   "source": [
    "tokenized_reviews[:3]"
   ]
  },
  {
   "cell_type": "markdown",
   "metadata": {
    "collapsed": true
   },
   "source": [
    "### Removing punctuation"
   ]
  },
  {
   "cell_type": "code",
   "execution_count": 30,
   "metadata": {
    "collapsed": true
   },
   "outputs": [],
   "source": [
    "import re\n",
    "import string\n",
    "regex = re.compile('[%s]' % re.escape(string.punctuation))"
   ]
  },
  {
   "cell_type": "code",
   "execution_count": 31,
   "metadata": {
    "collapsed": false
   },
   "outputs": [
    {
     "name": "stdout",
     "output_type": "stream",
     "text": [
      "[[u'Good', u'Quality', u'Dog', u'Food', u'I', u'have', u'bought', u'several', u'of', u'the', u'Vitality', u'canned', u'dog', u'food', u'products', u'and', u'have', u'found', u'them', u'all', u'to', u'be', u'of', u'good', u'quality', u'The', u'product', u'looks', u'more', u'like', u'a', u'stew', u'than', u'a', u'processed', u'meat', u'and', u'it', u'smells', u'better', u'My', u'Labrador', u'is', u'finicky', u'and', u'she', u'appreciates', u'this', u'product', u'better', u'than', u'most'], [u'Not', u'as', u'Advertised', u'Product', u'arrived', u'labeled', u'as', u'Jumbo', u'Salted', u'Peanuts', u'the', u'peanuts', u'were', u'actually', u'small', u'sized', u'unsalted', u'Not', u'sure', u'if', u'this', u'was', u'an', u'error', u'or', u'if', u'the', u'vendor', u'intended', u'to', u'represent', u'the', u'product', u'as', u'Jumbo'], [u'Delight', u'says', u'it', u'all', u'This', u'is', u'a', u'confection', u'that', u'has', u'been', u'around', u'a', u'few', u'centuries', u'It', u'is', u'a', u'light', u'pillowy', u'citrus', u'gelatin', u'with', u'nuts', u'in', u'this', u'case', u'Filberts', u'And', u'it', u'is', u'cut', u'into', u'tiny', u'squares', u'and', u'then', u'liberally', u'coated', u'with', u'powdered', u'sugar', u'And', u'it', u'is', u'a', u'tiny', u'mouthful', u'of', u'heaven', u'Not', u'too', u'chewy', u'and', u'very', u'flavorful', u'I', u'highly', u'recommend', u'this', u'yummy', u'treat', u'If', u'you', u'are', u'familiar', u'with', u'the', u'story', u'of', u'CS', u'Lewis', u'The', u'Lion', u'The', u'Witch', u'and', u'The', u'Wardrobe', u'this', u'is', u'the', u'treat', u'that', u'seduces', u'Edmund', u'into', u'selling', u'out', u'his', u'Brother', u'and', u'Sisters', u'to', u'the', u'Witch']]\n"
     ]
    }
   ],
   "source": [
    "tokenized_reviews_no_punctuation = []\n",
    "\n",
    "for review in tokenized_reviews:\n",
    "    \n",
    "    new_review = []\n",
    "    for token in review: \n",
    "        new_token = regex.sub(u'', token)\n",
    "        if not new_token == u'':\n",
    "            new_review.append(new_token)\n",
    "    \n",
    "    tokenized_reviews_no_punctuation.append(new_review)\n",
    "    \n",
    "print tokenized_reviews_no_punctuation[:3]"
   ]
  },
  {
   "cell_type": "code",
   "execution_count": 33,
   "metadata": {
    "collapsed": false
   },
   "outputs": [
    {
     "name": "stdout",
     "output_type": "stream",
     "text": [
      "10000\n"
     ]
    }
   ],
   "source": [
    "print len(tokenized_reviews_no_punctuation)"
   ]
  },
  {
   "cell_type": "markdown",
   "metadata": {},
   "source": [
    "### Cleaning text of stopwords"
   ]
  },
  {
   "cell_type": "code",
   "execution_count": 19,
   "metadata": {
    "collapsed": false
   },
   "outputs": [
    {
     "name": "stdout",
     "output_type": "stream",
     "text": [
      "[[u'Good', u'Quality', u'Dog', u'Food', u'I', u'bought', u'several', u'Vitality', u'canned', u'dog', u'food', u'products', u'found', u'good', u'quality', u'The', u'product', u'looks', u'like', u'stew', u'processed', u'meat', u'smells', u'better', u'My', u'Labrador', u'finicky', u'appreciates', u'product', u'better'], [u'Not', u'Advertised', u'Product', u'arrived', u'labeled', u'Jumbo', u'Salted', u'Peanuts', u'peanuts', u'actually', u'small', u'sized', u'unsalted', u'Not', u'sure', u'error', u'vendor', u'intended', u'represent', u'product', u'Jumbo'], [u'Delight', u'says', u'This', u'confection', u'around', u'centuries', u'It', u'light', u'pillowy', u'citrus', u'gelatin', u'nuts', u'case', u'Filberts', u'And', u'cut', u'tiny', u'squares', u'liberally', u'coated', u'powdered', u'sugar', u'And', u'tiny', u'mouthful', u'heaven', u'Not', u'chewy', u'flavorful', u'I', u'highly', u'recommend', u'yummy', u'treat', u'If', u'familiar', u'story', u'CS', u'Lewis', u'The', u'Lion', u'The', u'Witch', u'The', u'Wardrobe', u'treat', u'seduces', u'Edmund', u'selling', u'Brother', u'Sisters', u'Witch'], [u'Cough', u'Medicine', u'If', u'looking', u'secret', u'ingredient', u'Robitussin', u'I', u'believe', u'I', u'found', u'I', u'got', u'addition', u'Root', u'Beer', u'Extract', u'I', u'ordered', u'good', u'made', u'cherry', u'soda', u'The', u'flavor', u'medicinal']]\n"
     ]
    }
   ],
   "source": [
    "from nltk.corpus import stopwords\n",
    "\n",
    "tokenized_reviews_no_stopwords = []\n",
    "for doc in tokenized_reviews_no_punctuation:\n",
    "    new_term_vector = []\n",
    "    for word in doc:\n",
    "        if not word in stopwords.words('english'):\n",
    "            new_term_vector.append(word)\n",
    "    tokenized_reviews_no_stopwords.append(new_term_vector)\n",
    "            \n",
    "print tokenized_reviews_no_stopwords[:4]"
   ]
  },
  {
   "cell_type": "code",
   "execution_count": 20,
   "metadata": {
    "collapsed": false
   },
   "outputs": [
    {
     "data": {
      "text/plain": [
       "10000"
      ]
     },
     "execution_count": 20,
     "metadata": {},
     "output_type": "execute_result"
    }
   ],
   "source": [
    "len(tokenized_reviews_no_stopwords)"
   ]
  },
  {
   "cell_type": "markdown",
   "metadata": {},
   "source": [
    "### Stemming and Lemmatizing"
   ]
  },
  {
   "cell_type": "code",
   "execution_count": 34,
   "metadata": {
    "collapsed": false
   },
   "outputs": [
    {
     "name": "stdout",
     "output_type": "stream",
     "text": [
      "[[u'Good', u'Qualiti', u'Dog', u'Food', u'I', u'have', u'bought', u'sever', u'of', u'the', u'Vital', u'can', u'dog', u'food', u'product', u'and', u'have', u'found', u'them', u'all', u'to', u'be', u'of', u'good', u'qualiti', u'The', u'product', u'look', u'more', u'like', u'a', u'stew', u'than', u'a', u'process', u'meat', u'and', u'it', u'smell', u'better', u'My', u'Labrador', u'is', u'finicki', u'and', u'she', u'appreci', u'thi', u'product', u'better', u'than', u'most'], [u'Not', u'as', u'Advertis', u'Product', u'arriv', u'label', u'as', u'Jumbo', u'Salt', u'Peanut', u'the', u'peanut', u'were', u'actual', u'small', u'size', u'unsalt', u'Not', u'sure', u'if', u'thi', u'wa', u'an', u'error', u'or', u'if', u'the', u'vendor', u'intend', u'to', u'repres', u'the', u'product', u'as', u'Jumbo'], [u'Delight', u'say', u'it', u'all', u'Thi', u'is', u'a', u'confect', u'that', u'ha', u'been', u'around', u'a', u'few', u'centuri', u'It', u'is', u'a', u'light', u'pillowi', u'citru', u'gelatin', u'with', u'nut', u'in', u'thi', u'case', u'Filbert', u'And', u'it', u'is', u'cut', u'into', u'tini', u'squar', u'and', u'then', u'liber', u'coat', u'with', u'powder', u'sugar', u'And', u'it', u'is', u'a', u'tini', u'mouth', u'of', u'heaven', u'Not', u'too', u'chewi', u'and', u'veri', u'flavor', u'I', u'highli', u'recommend', u'thi', u'yummi', u'treat', u'If', u'you', u'are', u'familiar', u'with', u'the', u'stori', u'of', u'CS', u'Lewi', u'The', u'Lion', u'The', u'Witch', u'and', u'The', u'Wardrob', u'thi', u'is', u'the', u'treat', u'that', u'seduc', u'Edmund', u'into', u'sell', u'out', u'hi', u'Brother', u'and', u'Sister', u'to', u'the', u'Witch'], [u'Cough', u'Medicin', u'If', u'you', u'are', u'look', u'for', u'the', u'secret', u'ingredi', u'in', u'Robitussin', u'I', u'believ', u'I', u'have', u'found', u'it', u'I', u'got', u'thi', u'in', u'addit', u'to', u'the', u'Root', u'Beer', u'Extract', u'I', u'order', u'which', u'wa', u'good', u'and', u'made', u'some', u'cherri', u'soda', u'The', u'flavor', u'is', u'veri', u'medicin']]\n"
     ]
    }
   ],
   "source": [
    "from nltk.stem.porter import PorterStemmer\n",
    "porter = PorterStemmer()\n",
    "preprocessed_docs = []\n",
    "for doc in tokenized_reviews_no_punctuation:\n",
    "#for doc in tokenized_reviews_no_stopwords:\n",
    "    final_doc = []\n",
    "    for word in doc:\n",
    "        final_doc.append(porter.stem(word))\n",
    "    preprocessed_docs.append(final_doc)\n",
    "\n",
    "print preprocessed_docs[:4]"
   ]
  },
  {
   "cell_type": "code",
   "execution_count": 35,
   "metadata": {
    "collapsed": true
   },
   "outputs": [],
   "source": [
    "# to reduce memory\n",
    "del tokenized_reviews\n",
    "del tokenized_reviews_no_punctuation\n",
    "#del tokenized_reviews_no_stopwords"
   ]
  },
  {
   "cell_type": "code",
   "execution_count": 36,
   "metadata": {
    "collapsed": false
   },
   "outputs": [
    {
     "data": {
      "text/plain": [
       "10000"
      ]
     },
     "execution_count": 36,
     "metadata": {},
     "output_type": "execute_result"
    }
   ],
   "source": [
    "len(preprocessed_docs)"
   ]
  },
  {
   "cell_type": "code",
   "execution_count": 37,
   "metadata": {
    "collapsed": false
   },
   "outputs": [
    {
     "name": "stdout",
     "output_type": "stream",
     "text": [
      "[u'good qualiti dog food i have bought sever of the vital can dog food product and have found them all to be of good qualiti the product look more like a stew than a process meat and it smell better my labrador is finicki and she appreci thi product better than most', u'not as advertis product arriv label as jumbo salt peanut the peanut were actual small size unsalt not sure if thi wa an error or if the vendor intend to repres the product as jumbo']\n"
     ]
    }
   ],
   "source": [
    "final_reviews = []\n",
    "for doc in preprocessed_docs:\n",
    "    final_reviews.append((\" \".join(doc)).lower())\n",
    "print final_reviews[:2]"
   ]
  },
  {
   "cell_type": "code",
   "execution_count": 38,
   "metadata": {
    "collapsed": false
   },
   "outputs": [
    {
     "name": "stdout",
     "output_type": "stream",
     "text": [
      "10000\n"
     ]
    }
   ],
   "source": [
    "print len(final_reviews)"
   ]
  },
  {
   "cell_type": "code",
   "execution_count": 39,
   "metadata": {
    "collapsed": true
   },
   "outputs": [],
   "source": [
    "scores = dat['PScore'].tolist()[:10000]"
   ]
  },
  {
   "cell_type": "code",
   "execution_count": 40,
   "metadata": {
    "collapsed": false
   },
   "outputs": [
    {
     "data": {
      "text/plain": [
       "10000"
      ]
     },
     "execution_count": 40,
     "metadata": {},
     "output_type": "execute_result"
    }
   ],
   "source": [
    "len(scores)"
   ]
  },
  {
   "cell_type": "code",
   "execution_count": 41,
   "metadata": {
    "collapsed": false
   },
   "outputs": [
    {
     "data": {
      "text/plain": [
       "Counter({'negative': 2384, 'positive': 7616})"
      ]
     },
     "execution_count": 41,
     "metadata": {},
     "output_type": "execute_result"
    }
   ],
   "source": [
    "from collections import Counter\n",
    "Counter(scores)"
   ]
  },
  {
   "cell_type": "markdown",
   "metadata": {},
   "source": [
    "### convert in to dataframe and save it"
   ]
  },
  {
   "cell_type": "code",
   "execution_count": 42,
   "metadata": {
    "collapsed": false
   },
   "outputs": [],
   "source": [
    "dat = pd.DataFrame({'reviews':final_reviews,'scores':scores})"
   ]
  },
  {
   "cell_type": "code",
   "execution_count": 43,
   "metadata": {
    "collapsed": false
   },
   "outputs": [
    {
     "data": {
      "text/html": [
       "<div>\n",
       "<table border=\"1\" class=\"dataframe\">\n",
       "  <thead>\n",
       "    <tr style=\"text-align: right;\">\n",
       "      <th></th>\n",
       "      <th>reviews</th>\n",
       "      <th>scores</th>\n",
       "    </tr>\n",
       "  </thead>\n",
       "  <tbody>\n",
       "    <tr>\n",
       "      <th>0</th>\n",
       "      <td>good qualiti dog food i have bought sever of t...</td>\n",
       "      <td>positive</td>\n",
       "    </tr>\n",
       "    <tr>\n",
       "      <th>1</th>\n",
       "      <td>not as advertis product arriv label as jumbo s...</td>\n",
       "      <td>negative</td>\n",
       "    </tr>\n",
       "    <tr>\n",
       "      <th>2</th>\n",
       "      <td>delight say it all thi is a confect that ha be...</td>\n",
       "      <td>positive</td>\n",
       "    </tr>\n",
       "    <tr>\n",
       "      <th>3</th>\n",
       "      <td>cough medicin if you are look for the secret i...</td>\n",
       "      <td>negative</td>\n",
       "    </tr>\n",
       "    <tr>\n",
       "      <th>4</th>\n",
       "      <td>great taffi great taffi at a great price there...</td>\n",
       "      <td>positive</td>\n",
       "    </tr>\n",
       "  </tbody>\n",
       "</table>\n",
       "</div>"
      ],
      "text/plain": [
       "                                             reviews    scores\n",
       "0  good qualiti dog food i have bought sever of t...  positive\n",
       "1  not as advertis product arriv label as jumbo s...  negative\n",
       "2  delight say it all thi is a confect that ha be...  positive\n",
       "3  cough medicin if you are look for the secret i...  negative\n",
       "4  great taffi great taffi at a great price there...  positive"
      ]
     },
     "execution_count": 43,
     "metadata": {},
     "output_type": "execute_result"
    }
   ],
   "source": [
    "dat.head(5)"
   ]
  },
  {
   "cell_type": "code",
   "execution_count": 44,
   "metadata": {
    "collapsed": false
   },
   "outputs": [],
   "source": [
    "dat.to_pickle('reviewsAndscores')"
   ]
  },
  {
   "cell_type": "code",
   "execution_count": 45,
   "metadata": {
    "collapsed": true
   },
   "outputs": [],
   "source": [
    "dat = pd.read_pickle('reviewsAndscores')"
   ]
  },
  {
   "cell_type": "code",
   "execution_count": 46,
   "metadata": {
    "collapsed": false
   },
   "outputs": [
    {
     "data": {
      "text/html": [
       "<div>\n",
       "<table border=\"1\" class=\"dataframe\">\n",
       "  <thead>\n",
       "    <tr style=\"text-align: right;\">\n",
       "      <th></th>\n",
       "      <th>reviews</th>\n",
       "      <th>scores</th>\n",
       "    </tr>\n",
       "  </thead>\n",
       "  <tbody>\n",
       "    <tr>\n",
       "      <th>0</th>\n",
       "      <td>good qualiti dog food i have bought sever of t...</td>\n",
       "      <td>positive</td>\n",
       "    </tr>\n",
       "    <tr>\n",
       "      <th>1</th>\n",
       "      <td>not as advertis product arriv label as jumbo s...</td>\n",
       "      <td>negative</td>\n",
       "    </tr>\n",
       "    <tr>\n",
       "      <th>2</th>\n",
       "      <td>delight say it all thi is a confect that ha be...</td>\n",
       "      <td>positive</td>\n",
       "    </tr>\n",
       "    <tr>\n",
       "      <th>3</th>\n",
       "      <td>cough medicin if you are look for the secret i...</td>\n",
       "      <td>negative</td>\n",
       "    </tr>\n",
       "    <tr>\n",
       "      <th>4</th>\n",
       "      <td>great taffi great taffi at a great price there...</td>\n",
       "      <td>positive</td>\n",
       "    </tr>\n",
       "  </tbody>\n",
       "</table>\n",
       "</div>"
      ],
      "text/plain": [
       "                                             reviews    scores\n",
       "0  good qualiti dog food i have bought sever of t...  positive\n",
       "1  not as advertis product arriv label as jumbo s...  negative\n",
       "2  delight say it all thi is a confect that ha be...  positive\n",
       "3  cough medicin if you are look for the secret i...  negative\n",
       "4  great taffi great taffi at a great price there...  positive"
      ]
     },
     "execution_count": 46,
     "metadata": {},
     "output_type": "execute_result"
    }
   ],
   "source": [
    "dat.head(5)"
   ]
  },
  {
   "cell_type": "markdown",
   "metadata": {},
   "source": [
    "## Lets do some prediction"
   ]
  },
  {
   "cell_type": "markdown",
   "metadata": {},
   "source": [
    "> For our prediction we do logistic regression and naive bayes classifier"
   ]
  },
  {
   "cell_type": "code",
   "execution_count": 47,
   "metadata": {
    "collapsed": true
   },
   "outputs": [],
   "source": [
    "from sklearn.feature_extraction.text import TfidfTransformer\n",
    "from sklearn.feature_extraction.text import CountVectorizer"
   ]
  },
  {
   "cell_type": "code",
   "execution_count": 48,
   "metadata": {
    "collapsed": true
   },
   "outputs": [],
   "source": [
    "count_vect = CountVectorizer()\n",
    "train_counts = count_vect.fit_transform(dat['reviews'])           \n",
    "tfidf_transformer = TfidfTransformer()\n",
    "train_tfidf = tfidf_transformer.fit_transform(train_counts)"
   ]
  },
  {
   "cell_type": "markdown",
   "metadata": {},
   "source": [
    "### split in to Train and Test set"
   ]
  },
  {
   "cell_type": "code",
   "execution_count": 49,
   "metadata": {
    "collapsed": false
   },
   "outputs": [],
   "source": [
    "from sklearn.cross_validation import train_test_split\n",
    "\n",
    "X_train, X_test, Y_train, Y_test = train_test_split(train_tfidf, dat['scores'], test_size=0.2, random_state=21)"
   ]
  },
  {
   "cell_type": "markdown",
   "metadata": {},
   "source": [
    "### Fit Logistic regression "
   ]
  },
  {
   "cell_type": "code",
   "execution_count": 50,
   "metadata": {
    "collapsed": false
   },
   "outputs": [],
   "source": [
    "from sklearn import linear_model\n",
    "prediction = dict()\n",
    "logreg = linear_model.LogisticRegression(C=1e5)\n",
    "logreg.fit(X_train, Y_train)\n",
    "prediction['Logistic'] = logreg.predict(X_test)"
   ]
  },
  {
   "cell_type": "markdown",
   "metadata": {
    "collapsed": true
   },
   "source": [
    "### Fit Multinomial Naive Bayes"
   ]
  },
  {
   "cell_type": "code",
   "execution_count": 51,
   "metadata": {
    "collapsed": true
   },
   "outputs": [],
   "source": [
    "from sklearn.naive_bayes import MultinomialNB\n",
    "model = MultinomialNB().fit(X_train, Y_train)\n",
    "prediction['Multinomial'] = model.predict(X_test)"
   ]
  },
  {
   "cell_type": "markdown",
   "metadata": {},
   "source": [
    "### Bernoulli Naive Bayes "
   ]
  },
  {
   "cell_type": "code",
   "execution_count": 52,
   "metadata": {
    "collapsed": true
   },
   "outputs": [],
   "source": [
    "from sklearn.naive_bayes import BernoulliNB\n",
    "model = BernoulliNB().fit(X_train, Y_train)\n",
    "prediction['Bernoulli'] = model.predict(X_test)"
   ]
  },
  {
   "cell_type": "markdown",
   "metadata": {},
   "source": [
    "### Metrics"
   ]
  },
  {
   "cell_type": "code",
   "execution_count": 53,
   "metadata": {
    "collapsed": false
   },
   "outputs": [
    {
     "data": {
      "image/png": "[encoded data removed]",
      "text/plain": [
       "<matplotlib.figure.Figure at 0x2fad8890>"
      ]
     },
     "metadata": {},
     "output_type": "display_data"
    }
   ],
   "source": [
    "%matplotlib inline\n",
    "import numpy as np\n",
    "from sklearn.metrics import confusion_matrix\n",
    "from sklearn import metrics\n",
    "from sklearn.metrics import roc_curve, auc\n",
    "from nltk.stem.porter import PorterStemmer\n",
    "\n",
    "def format(x):\n",
    "    if x == 'negative':\n",
    "        return 0\n",
    "    return 1\n",
    "vfunc = np.vectorize(format)\n",
    "\n",
    "cmp = 0\n",
    "colors = ['b', 'g', 'y', 'm', 'k']\n",
    "for model, predicted in prediction.items():\n",
    "    false_positive_rate, true_positive_rate, thresholds = roc_curve(y_test.map(format), vfunc(predicted))\n",
    "    roc_auc = auc(false_positive_rate, true_positive_rate)\n",
    "    plt.plot(false_positive_rate, true_positive_rate, colors[cmp], label='%s: AUC %0.2f'% (model,roc_auc))\n",
    "    cmp += 1\n",
    "\n",
    "plt.title('Classifiers comparaison with ROC')\n",
    "plt.legend(loc='lower right')\n",
    "plt.plot([0,1],[0,1],'r--')\n",
    "plt.xlim([-0.1,1.2])\n",
    "plt.ylim([-0.1,1.2])\n",
    "plt.ylabel('True Positive Rate')\n",
    "plt.xlabel('False Positive Rate')\n",
    "plt.show()"
   ]
  },
  {
   "cell_type": "code",
   "execution_count": 54,
   "metadata": {
    "collapsed": false
   },
   "outputs": [
    {
     "name": "stdout",
     "output_type": "stream",
     "text": [
      "             precision    recall  f1-score   support\n",
      "\n",
      "   positive       0.72      0.71      0.72       451\n",
      "   negative       0.92      0.92      0.92      1549\n",
      "\n",
      "avg / total       0.87      0.87      0.87      2000\n",
      "\n"
     ]
    }
   ],
   "source": [
    "print(metrics.classification_report(Y_test, prediction['Logistic'], target_names = [\"positive\", \"negative\"]))"
   ]
  },
  {
   "cell_type": "code",
   "execution_count": 55,
   "metadata": {
    "collapsed": true
   },
   "outputs": [],
   "source": [
    "from sklearn.metrics import confusion_matrix"
   ]
  },
  {
   "cell_type": "code",
   "execution_count": 56,
   "metadata": {
    "collapsed": false
   },
   "outputs": [
    {
     "data": {
      "text/plain": [
       "array([[ 322,  129],\n",
       "       [ 125, 1424]])"
      ]
     },
     "execution_count": 56,
     "metadata": {},
     "output_type": "execute_result"
    }
   ],
   "source": [
    "confusion_matrix(Y_test, prediction['Logistic'])"
   ]
  },
  {
   "cell_type": "code",
   "execution_count": 58,
   "metadata": {
    "collapsed": false
   },
   "outputs": [
    {
     "data": {
      "image/png": "[encoded data removed]",
      "text/plain": [
       "<matplotlib.figure.Figure at 0x2fd082d0>"
      ]
     },
     "metadata": {},
     "output_type": "display_data"
    },
    {
     "data": {
      "image/png": "[encoded data removed]",
      "text/plain": [
       "<matplotlib.figure.Figure at 0x9bc7170>"
      ]
     },
     "metadata": {},
     "output_type": "display_data"
    }
   ],
   "source": [
    "def plot_confusion_matrix(cm, title='Confusion matrix', cmap=plt.cm.Blues):\n",
    "    plt.imshow(cm, interpolation='nearest', cmap=cmap)\n",
    "    plt.title(title)\n",
    "    plt.colorbar()\n",
    "    tick_marks = np.arange(len(set(scores)))\n",
    "    plt.xticks(tick_marks, set(scores), rotation=45)\n",
    "    plt.yticks(tick_marks, set(scores))\n",
    "    plt.tight_layout()\n",
    "    plt.ylabel('True label')\n",
    "    plt.xlabel('Predicted label')\n",
    "    \n",
    "# Compute confusion matrix\n",
    "cm = confusion_matrix(Y_test, prediction['Logistic'])\n",
    "np.set_printoptions(precision=2)\n",
    "plt.figure()\n",
    "plot_confusion_matrix(cm)    \n",
    "\n",
    "cm_normalized = cm.astype('float') / cm.sum(axis=1)[:, np.newaxis]\n",
    "plt.figure()\n",
    "plot_confusion_matrix(cm_normalized, title='Normalized confusion matrix')\n",
    "\n",
    "plt.show()"
   ]
  },
  {
   "cell_type": "markdown",
   "metadata": {
    "collapsed": true
   },
   "source": [
    "### References"
   ]
  },
  {
   "cell_type": "markdown",
   "metadata": {},
   "source": [
    "https://www.kaggle.com/snap/amazon-fine-food-reviews\n",
    "\n",
    "\n",
    "http://stanford.edu/~rjweiss/public_html/IRiSS2013/text2/notebooks/cleaningtext.html\n"
   ]
  }
 ],
 "metadata": {
  "kernelspec": {
   "display_name": "Python 2",
   "language": "python",
   "name": "python2"
  },
  "language_info": {
   "codemirror_mode": {
    "name": "ipython",
    "version": 2
   },
   "file_extension": ".py",
   "mimetype": "text/x-python",
   "name": "python",
   "nbconvert_exporter": "python",
   "pygments_lexer": "ipython2",
   "version": "2.7.10"
  }
 },
 "nbformat": 4,
 "nbformat_minor": 0
}
