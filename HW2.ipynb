{
 "metadata": {
  "name": ""
 },
 "nbformat": 3,
 "nbformat_minor": 0,
 "worksheets": [
  {
   "cells": [
    {
     "cell_type": "markdown",
     "metadata": {},
     "source": [
      "###Exercise from http://www.nltk.org/book_1ed/ch02.html\n",
      "###Author : Nirmal kumar Ravi"
     ]
    },
    {
     "cell_type": "markdown",
     "metadata": {},
     "source": [
      "> Create a variable phrase containing a list of words. Experiment with the operations described in this chapter, including addition, multiplication, indexing, slicing, and sorting."
     ]
    },
    {
     "cell_type": "code",
     "collapsed": false,
     "input": [
      "wphrase = ['I','love','NLP']\n",
      "print wphrase\n",
      "wphrase = wphrase +  ['and','ML'] #addition\n",
      "print wphrase\n",
      "print wphrase*2 #multiply\n",
      "print wphrase[2] #indexing\n",
      "print wphrase[1:3] #slicing\n",
      "print sorted(wphrase) #sorting\n"
     ],
     "language": "python",
     "metadata": {},
     "outputs": [
      {
       "output_type": "stream",
       "stream": "stdout",
       "text": [
        "['I', 'love', 'NLP']\n",
        "['I', 'love', 'NLP', 'and', 'ML']\n",
        "['I', 'love', 'NLP', 'and', 'ML', 'I', 'love', 'NLP', 'and', 'ML']\n",
        "NLP\n",
        "['love', 'NLP']\n",
        "['I', 'ML', 'NLP', 'and', 'love']\n"
       ]
      }
     ],
     "prompt_number": 10
    },
    {
     "cell_type": "markdown",
     "metadata": {},
     "source": [
      ">Use the corpus module to explore austen-persuasion.txt. How many word tokens does this book have? How many word types?"
     ]
    },
    {
     "cell_type": "code",
     "collapsed": false,
     "input": [
      "from nltk.corpus import gutenberg\n",
      "persuasion = gutenberg.words('austen-persuasion.txt')\n",
      "print 'There are %d tokens and %d word types'%(len(persuasion),len(set(persuasion)))"
     ],
     "language": "python",
     "metadata": {},
     "outputs": [
      {
       "output_type": "stream",
       "stream": "stdout",
       "text": [
        "There are 98171 tokens and 6132 word types\n"
       ]
      }
     ],
     "prompt_number": 14
    },
    {
     "cell_type": "markdown",
     "metadata": {},
     "source": [
      ">Use the Brown corpus reader nltk.corpus.brown.words() or the Web text corpus reader nltk.corpus.webtext.words() to access some sample text in two different genres."
     ]
    },
    {
     "cell_type": "code",
     "collapsed": false,
     "input": [
      "from nltk.corpus import brown\n",
      "brown.categories()"
     ],
     "language": "python",
     "metadata": {},
     "outputs": [
      {
       "metadata": {},
       "output_type": "pyout",
       "prompt_number": 15,
       "text": [
        "[u'adventure',\n",
        " u'belles_lettres',\n",
        " u'editorial',\n",
        " u'fiction',\n",
        " u'government',\n",
        " u'hobbies',\n",
        " u'humor',\n",
        " u'learned',\n",
        " u'lore',\n",
        " u'mystery',\n",
        " u'news',\n",
        " u'religion',\n",
        " u'reviews',\n",
        " u'romance',\n",
        " u'science_fiction']"
       ]
      }
     ],
     "prompt_number": 15
    },
    {
     "cell_type": "code",
     "collapsed": false,
     "input": [
      "print 'words in Romance and humor genres',\n",
      "brown.words(categories=['romance','humor'])[:10]"
     ],
     "language": "python",
     "metadata": {},
     "outputs": [
      {
       "output_type": "stream",
       "stream": "stdout",
       "text": [
        "words in Romance and humor genres"
       ]
      },
      {
       "metadata": {},
       "output_type": "pyout",
       "prompt_number": 17,
       "text": [
        "[u'They',\n",
        " u'neither',\n",
        " u'liked',\n",
        " u'nor',\n",
        " u'disliked',\n",
        " u'the',\n",
        " u'Old',\n",
        " u'Man',\n",
        " u'.',\n",
        " u'To']"
       ]
      },
      {
       "output_type": "stream",
       "stream": "stdout",
       "text": [
        "\n"
       ]
      }
     ],
     "prompt_number": 17
    },
    {
     "cell_type": "markdown",
     "metadata": {},
     "source": [
      ">Read in the texts of the State of the Union addresses, using the state_union corpus reader. Count occurrences of men, women, and people in each document. What has happened to the usage of these words over time?"
     ]
    },
    {
     "cell_type": "code",
     "collapsed": false,
     "input": [
      "%matplotlib inline\n",
      "from nltk.corpus import state_union\n",
      "cfd = nltk.ConditionalFreqDist(\n",
      "    (target, fileid[:4])\n",
      "    for fileid in state_union.fileids()\n",
      "    for w in state_union.words(fileid)\n",
      "    for target in ['men', 'women','people']\n",
      "    if w.lower().startswith(target))\n",
      "\n",
      "\n",
      "cfd.plot()"
     ],
     "language": "python",
     "metadata": {},
     "outputs": [
      {
       "metadata": {},
       "output_type": "display_data",
       "png": "[encoded data removed]",
       "text": [
        "<matplotlib.figure.Figure at 0x7ff6dd34a9d0>"
       ]
      }
     ],
     "prompt_number": 28
    },
    {
     "cell_type": "markdown",
     "metadata": {},
     "source": [
      ">Investigate the holonym-meronym relations for some nouns. Remember that there are three kinds of holonym-meronym relation, so you need to use: member_meronyms(), part_meronyms(), substance_meronyms(), member_holonyms(), part_holonyms(), and substance_holonyms()."
     ]
    },
    {
     "cell_type": "code",
     "collapsed": false,
     "input": [
      "from nltk.corpus import wordnet as wn\n",
      "\n",
      "print wn.synset('tree.n.01').member_meronyms()\n",
      "print wn.synset('tree.n.01').part_meronyms()\n",
      "print wn.synset('tree.n.01').substance_meronyms()\n",
      "print wn.synset('tree.n.01').member_holonyms()\n",
      "print wn.synset('tree.n.01').part_holonyms()\n",
      "print wn.synset('tree.n.01').substance_holonyms()"
     ],
     "language": "python",
     "metadata": {},
     "outputs": [
      {
       "output_type": "stream",
       "stream": "stdout",
       "text": [
        "[]\n",
        "[Synset('burl.n.02'), Synset('crown.n.07'), Synset('limb.n.02'), Synset('stump.n.01'), Synset('trunk.n.01')]\n",
        "[Synset('heartwood.n.01'), Synset('sapwood.n.01')]\n",
        "[Synset('forest.n.01')]\n",
        "[]\n",
        "[]\n"
       ]
      }
     ],
     "prompt_number": 38
    },
    {
     "cell_type": "markdown",
     "metadata": {},
     "source": [
      ">In the discussion of comparative wordlists, we created an object called translate which you could look up using words in both German and Italian in order to get corresponding words in English. What problem might arise with this approach? Can you suggest a way to avoid this problem?"
     ]
    },
    {
     "cell_type": "markdown",
     "metadata": {},
     "source": [
      "* If the word is not present it might cause error\n",
      "* Since we are using unigrams the meaning  may change when the word is used in sentence"
     ]
    },
    {
     "cell_type": "markdown",
     "metadata": {},
     "source": [
      "> According to Strunk and White's Elements of Style, the word however, used at the start of a sentence, means \"in whatever way\" or \"to whatever extent\", and not \"nevertheless\". They give this example of correct usage: However you advise him, he will probably do as he thinks best. (http://www.bartleby.com/141/strunk3.html) Use the concordance tool to study actual usage of this word in the various texts we have been considering. See also the LanguageLog posting \"Fossilized prejudices about 'however'\" at http://itre.cis.upenn.edu/~myl/languagelog/archives/001913.html"
     ]
    },
    {
     "cell_type": "code",
     "collapsed": false,
     "input": [
      "nltk.Text(persuasion).concordance(\"however\")"
     ],
     "language": "python",
     "metadata": {},
     "outputs": [
      {
       "output_type": "stream",
       "stream": "stdout",
       "text": [
        "Displaying 25 of 89 matches:\n",
        "onceited , silly father . She had , however , one very intimate friend , a sens\n",
        "early custom . But these measures , however good in themselves , were insuffici\n",
        "ellynch Hall was to be let . This , however , was a profound secret , not to be\n",
        "t immediate neighbourhood , which , however , had not suited him ; that acciden\n",
        "e dues of a tenant . It succeeded , however ; and though Sir Walter must ever l\n",
        "h , the former curate of Monkford , however suspicious appearances may be , but\n",
        "good character and appearance ; and however Lady Russell might have asked yet f\n",
        "siness no evil . She was assisted , however , by that perfect indifference and \n",
        "h the others . Something occurred , however , to give her a different duty . Ma\n",
        " , but can never alter plain ones . However , at any rate , as I have a great d\n",
        "l what is due to you as my sister . However , we may as well go and sit with th\n",
        "o means of her going . She wished , however to see the Crofts , and was glad to\n",
        "ithout any approach to coarseness , however , or any want of good humour . Anne\n",
        "ll be in question . She could not , however , reach such a degree of certainty \n",
        "al to Anne ' s nerves . She found , however , that it was one to which she must\n",
        "re gone , she hoped , to be happy , however oddly constructed such happiness mi\n",
        "once more in the same room . Soon , however , she began to reason with herself \n",
        " ! It would be but a new creation , however , and I never think much of your ne\n",
        "rove of Uppercross .\" Her husband , however , would not agree with her here ; f\n",
        "re presently .\" Captain Wentworth , however , came from his window , apparently\n",
        "d Walter stir . In another moment , however , she found herself in the state of\n",
        " at once . After a short struggle , however , Charles Hayter seemed to quit the\n",
        "rything being to be done together , however undesired and inconvenient . She tr\n",
        " , nobody answered her . Winthrop , however , or its environs -- for young men \n",
        "fore they were beyond her hearing , however , Louisa spoke again . \" Mary is go\n"
       ]
      }
     ],
     "prompt_number": 40
    },
    {
     "cell_type": "code",
     "collapsed": false,
     "input": [
      "\n"
     ],
     "language": "python",
     "metadata": {},
     "outputs": []
    },
    {
     "cell_type": "code",
     "collapsed": false,
     "input": [],
     "language": "python",
     "metadata": {},
     "outputs": []
    }
   ],
   "metadata": {}
  }
 ]
}