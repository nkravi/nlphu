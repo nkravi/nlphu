{
 "metadata": {
  "name": ""
 },
 "nbformat": 3,
 "nbformat_minor": 0,
 "worksheets": [
  {
   "cells": [
    {
     "cell_type": "markdown",
     "metadata": {},
     "source": [
      "###Exercise from http://www.nltk.org/book_1ed/ch03.html\n",
      "###Author : Nirmal kumar Ravi"
     ]
    },
    {
     "cell_type": "markdown",
     "metadata": {},
     "source": [
      "> Define a string s = 'colorless'. Write a Python statement that changes this to \"colourless\" using only the slice and concatenation operations."
     ]
    },
    {
     "cell_type": "code",
     "collapsed": false,
     "input": [
      "s = 'colorless'\n",
      "s[:4]+'u'+s[4:]"
     ],
     "language": "python",
     "metadata": {},
     "outputs": [
      {
       "metadata": {},
       "output_type": "pyout",
       "prompt_number": 2,
       "text": [
        "'colourless'"
       ]
      }
     ],
     "prompt_number": 2
    },
    {
     "cell_type": "markdown",
     "metadata": {},
     "source": [
      ">We can use the slice notation to remove morphological endings on words. For example, 'dogs'[:-1] removes the last character of dogs, leaving dog. Use slice notation to remove the affixes from these words (we've inserted a hyphen to indicate the affix boundary, but omit this from your strings): dish-es, run-ning, nation-ality, un-do, pre-heat."
     ]
    },
    {
     "cell_type": "code",
     "collapsed": false,
     "input": [
      "print 'dishes'[:-2]\n",
      "print 'running'[:-4]\n",
      "print 'nationality'[:6]\n",
      "print 'undo'[:2]\n",
      "print 'preheat'[:3]"
     ],
     "language": "python",
     "metadata": {},
     "outputs": [
      {
       "output_type": "stream",
       "stream": "stdout",
       "text": [
        "dish\n",
        "run\n",
        "nation\n",
        "un\n",
        "pre\n"
       ]
      }
     ],
     "prompt_number": 9
    },
    {
     "cell_type": "markdown",
     "metadata": {},
     "source": [
      ">We saw how we can generate an IndexError by indexing beyond the end of a string. Is it possible to construct an index that goes too far to the left, before the start of the string?"
     ]
    },
    {
     "cell_type": "markdown",
     "metadata": {},
     "source": [
      "* Yes, Its possiblie with python. We can say something like 'Pyhton'[-7]"
     ]
    },
    {
     "cell_type": "markdown",
     "metadata": {},
     "source": [
      ">We can specify a \"step\" size for the slice. The following returns every second character within the slice: monty[6:11:2]. It also works in the reverse direction: monty[10:5:-2] Try these for yourself, then experiment with different step values."
     ]
    },
    {
     "cell_type": "code",
     "collapsed": false,
     "input": [
      "print 'ThisisTest'[::1]\n",
      "print 'ThisisTest'[::2]\n",
      "print 'ThisisTest'[3::1]\n",
      "print 'ThisisTest'[:4:1]\n",
      "print 'ThisisTest'[::-1]"
     ],
     "language": "python",
     "metadata": {},
     "outputs": [
      {
       "output_type": "stream",
       "stream": "stdout",
       "text": [
        "ThisisTest\n",
        "TiiTs\n",
        "sisTest\n",
        "This\n",
        "tseTsisihT\n"
       ]
      }
     ],
     "prompt_number": 21
    },
    {
     "cell_type": "markdown",
     "metadata": {},
     "source": [
      ">What happens if you ask the interpreter to evaluate monty[::-1]? Explain why this is a reasonable result."
     ]
    },
    {
     "cell_type": "markdown",
     "metadata": {},
     "source": [
      "* It prints string in reverse order. '-1' says start from last char and It does not have begin and length paramter so it prints everything"
     ]
    },
    {
     "cell_type": "markdown",
     "metadata": {},
     "source": [
      ">Describe the class of strings matched by the following regular expressions.\n",
      "* [a-zA-Z]+\n",
      "* [A-Z][a-z]*\n",
      "* p[aeiou]{,2}t\n",
      "* \\d+(\\.\\d+)?\n",
      "* ([^aeiou][aeiou][^aeiou])*\n",
      "* \\w+|[^\\w\\s]+\n",
      "* Test your answers using nltk.re_show()."
     ]
    },
    {
     "cell_type": "code",
     "collapsed": false,
     "input": [],
     "language": "python",
     "metadata": {},
     "outputs": []
    }
   ],
   "metadata": {}
  }
 ]
}