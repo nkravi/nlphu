{
 "metadata": {
  "name": ""
 },
 "nbformat": 3,
 "nbformat_minor": 0,
 "worksheets": [
  {
   "cells": [
    {
     "cell_type": "markdown",
     "metadata": {},
     "source": [
      "###Exercise from http://www.nltk.org/book_1ed/ch03.html\n",
      "###Author : Nirmal kumar Ravi"
     ]
    },
    {
     "cell_type": "markdown",
     "metadata": {},
     "source": [
      "> Define a string s = 'colorless'. Write a Python statement that changes this to \"colourless\" using only the slice and concatenation operations."
     ]
    },
    {
     "cell_type": "code",
     "collapsed": false,
     "input": [
      "s = 'colorless'\n",
      "s[:4]+'u'+s[4:]"
     ],
     "language": "python",
     "metadata": {},
     "outputs": [
      {
       "metadata": {},
       "output_type": "pyout",
       "prompt_number": 2,
       "text": [
        "'colourless'"
       ]
      }
     ],
     "prompt_number": 2
    },
    {
     "cell_type": "markdown",
     "metadata": {},
     "source": [
      ">We can use the slice notation to remove morphological endings on words. For example, 'dogs'[:-1] removes the last character of dogs, leaving dog. Use slice notation to remove the affixes from these words (we've inserted a hyphen to indicate the affix boundary, but omit this from your strings): dish-es, run-ning, nation-ality, un-do, pre-heat."
     ]
    },
    {
     "cell_type": "code",
     "collapsed": false,
     "input": [
      "print 'dishes'[:-2]\n",
      "print 'running'[:-4]\n",
      "print 'nationality'[:6]\n",
      "print 'undo'[:2]\n",
      "print 'preheat'[:3]"
     ],
     "language": "python",
     "metadata": {},
     "outputs": [
      {
       "output_type": "stream",
       "stream": "stdout",
       "text": [
        "dish\n",
        "run\n",
        "nation\n",
        "un\n",
        "pre\n"
       ]
      }
     ],
     "prompt_number": 9
    },
    {
     "cell_type": "markdown",
     "metadata": {},
     "source": [
      ">We saw how we can generate an IndexError by indexing beyond the end of a string. Is it possible to construct an index that goes too far to the left, before the start of the string?"
     ]
    },
    {
     "cell_type": "markdown",
     "metadata": {},
     "source": [
      "* Yes, Its possiblie with python. We can say something like 'Pyhton'[-7]"
     ]
    },
    {
     "cell_type": "markdown",
     "metadata": {},
     "source": [
      ">We can specify a \"step\" size for the slice. The following returns every second character within the slice: monty[6:11:2]. It also works in the reverse direction: monty[10:5:-2] Try these for yourself, then experiment with different step values."
     ]
    },
    {
     "cell_type": "code",
     "collapsed": false,
     "input": [
      "print 'ThisisTest'[::1]\n",
      "print 'ThisisTest'[::2]\n",
      "print 'ThisisTest'[3::1]\n",
      "print 'ThisisTest'[:4:1]\n",
      "print 'ThisisTest'[::-1]"
     ],
     "language": "python",
     "metadata": {},
     "outputs": [
      {
       "output_type": "stream",
       "stream": "stdout",
       "text": [
        "ThisisTest\n",
        "TiiTs\n",
        "sisTest\n",
        "This\n",
        "tseTsisihT\n"
       ]
      }
     ],
     "prompt_number": 21
    },
    {
     "cell_type": "markdown",
     "metadata": {},
     "source": [
      ">What happens if you ask the interpreter to evaluate monty[::-1]? Explain why this is a reasonable result."
     ]
    },
    {
     "cell_type": "markdown",
     "metadata": {},
     "source": [
      "* It prints string in reverse order. '-1' says start from last char and It does not have begin and length paramter so it prints everything"
     ]
    },
    {
     "cell_type": "markdown",
     "metadata": {},
     "source": [
      ">Describe the class of strings matched by the following regular expressions.\n",
      "* [a-zA-Z]+\n",
      "* [A-Z][a-z]*\n",
      "* p[aeiou]{,2}t\n",
      "* \\d+(\\.\\d+)?\n",
      "* ([^aeiou][aeiou][^aeiou])*\n",
      "* \\w+|[^\\w\\s]+\n",
      "* Test your answers using nltk.re_show()."
     ]
    },
    {
     "cell_type": "code",
     "collapsed": false,
     "input": [
      "import nltk, re, pprint"
     ],
     "language": "python",
     "metadata": {},
     "outputs": [],
     "prompt_number": 1
    },
    {
     "cell_type": "markdown",
     "metadata": {},
     "source": [
      "* [a-zA-Z]+ Contains one or more alphabets.Matches both capital and small letters"
     ]
    },
    {
     "cell_type": "code",
     "collapsed": false,
     "input": [
      "nltk.re_show('[a-zA-Z]+','This is test 123')"
     ],
     "language": "python",
     "metadata": {},
     "outputs": [
      {
       "output_type": "stream",
       "stream": "stdout",
       "text": [
        "{This} {is} {test} 123\n"
       ]
      }
     ],
     "prompt_number": 4
    },
    {
     "cell_type": "markdown",
     "metadata": {},
     "source": [
      "* [A-Z][a-z]* Start with Capital letter alphabet followed by zero or more small letters"
     ]
    },
    {
     "cell_type": "code",
     "collapsed": false,
     "input": [
      "nltk.re_show('[A-Z][a-z]*','This IS test 123')"
     ],
     "language": "python",
     "metadata": {},
     "outputs": [
      {
       "output_type": "stream",
       "stream": "stdout",
       "text": [
        "{This} {I}{S} test 123\n"
       ]
      }
     ],
     "prompt_number": 7
    },
    {
     "cell_type": "markdown",
     "metadata": {},
     "source": [
      "* p[aeiou]{,2}t Word starts with p ends with t with letters 'aeiou' in-between with 0-2 occurences."
     ]
    },
    {
     "cell_type": "code",
     "collapsed": false,
     "input": [
      "nltk.re_show('p[aeiou]{,2}t', 'paat pit pooot 123 abc')"
     ],
     "language": "python",
     "metadata": {},
     "outputs": [
      {
       "output_type": "stream",
       "stream": "stdout",
       "text": [
        "{paat} {pit} pooot 123 abc\n"
       ]
      }
     ],
     "prompt_number": 11
    },
    {
     "cell_type": "markdown",
     "metadata": {},
     "source": [
      "* \\d+(.\\d+)? starts with digit followed by one or more digits followed by zero or more pattern matching any character followed by one or more digts"
     ]
    },
    {
     "cell_type": "code",
     "collapsed": false,
     "input": [
      "nltk.re_show('\\d+(.\\d+)?','1t23 1 abc')"
     ],
     "language": "python",
     "metadata": {},
     "outputs": [
      {
       "output_type": "stream",
       "stream": "stdout",
       "text": [
        "{1t23} {1} abc\n"
       ]
      }
     ],
     "prompt_number": 14
    },
    {
     "cell_type": "markdown",
     "metadata": {},
     "source": [
      "* ([^aeiou][aeiou][^aeiou])* starts with letter other than 'aeiou' followed by 'aeiou' and a letter not in 'aeiou' with zero or more condition "
     ]
    },
    {
     "cell_type": "code",
     "collapsed": false,
     "input": [
      "nltk.re_show('([^aeiou][aeiou][^aeiou])*','hat cat aei')"
     ],
     "language": "python",
     "metadata": {},
     "outputs": [
      {
       "output_type": "stream",
       "stream": "stdout",
       "text": [
        "{hat} {cat} {}a{}e{}i{}\n"
       ]
      }
     ],
     "prompt_number": 15
    },
    {
     "cell_type": "markdown",
     "metadata": {},
     "source": [
      "* \\w+|[^\\w\\s]+  Either one or more alpha numeric or not of alphanumeric and space"
     ]
    },
    {
     "cell_type": "code",
     "collapsed": false,
     "input": [
      "nltk.re_show('\\w+|[^\\w\\s]+','1ab @@@')"
     ],
     "language": "python",
     "metadata": {},
     "outputs": [
      {
       "output_type": "stream",
       "stream": "stdout",
       "text": [
        "{1ab} {@@@}\n"
       ]
      }
     ],
     "prompt_number": 16
    },
    {
     "cell_type": "markdown",
     "metadata": {},
     "source": [
      "> Write regular expressions to match the following classes of strings:\n",
      "\n",
      "* A single determiner (assume that a, an, and the are the only determiners).\n",
      "* An arithmetic expression using integers, addition, and multiplication, such as 2*3+8."
     ]
    },
    {
     "cell_type": "code",
     "collapsed": false,
     "input": [
      "import re\n",
      "\n",
      "re.findall(r'an?|the','this is an a the check')"
     ],
     "language": "python",
     "metadata": {},
     "outputs": [
      {
       "metadata": {},
       "output_type": "pyout",
       "prompt_number": 83,
       "text": [
        "['an', 'a', 'the']"
       ]
      }
     ],
     "prompt_number": 83
    },
    {
     "cell_type": "code",
     "collapsed": false,
     "input": [
      "re.findall(r'\\d+[\\+\\-\\/\\*]\\d+[\\+\\-\\/\\*]\\d+','Do this 2+93*78 and 5*7+8')"
     ],
     "language": "python",
     "metadata": {},
     "outputs": [
      {
       "metadata": {},
       "output_type": "pyout",
       "prompt_number": 92,
       "text": [
        "['2+93*78', '5*7+8']"
       ]
      }
     ],
     "prompt_number": 92
    },
    {
     "cell_type": "markdown",
     "metadata": {},
     "source": [
      ">  Write a utility function that takes a URL as its argument, and returns the contents of the URL, with all HTML markup removed. Use urllib.urlopen to access the contents of the URL, e.g. raw_contents = urllib.urlopen('http://www.nltk.org/').read()."
     ]
    },
    {
     "cell_type": "code",
     "collapsed": false,
     "input": [
      "from urllib import urlopen\n",
      "from BeautifulSoup import BeautifulSoup\n",
      "\n",
      "def get_content(url):\n",
      "    soup = BeautifulSoup(urlopen(url).read())\n",
      "    return soup.getText()\n",
      "\n",
      "content =  get_content('http://www.nltk.org/')[1000:]\n",
      "with open('corpus.txt','w') as f:\n",
      "    f.write(content[:843])"
     ],
     "language": "python",
     "metadata": {},
     "outputs": [],
     "prompt_number": 30
    },
    {
     "cell_type": "markdown",
     "metadata": {},
     "source": [
      ">Save some text into a file corpus.txt. Define a function load(f) that reads from the file named in its sole argument, and returns a string containing the text of the file.\n",
      "\n",
      "* Use nltk.regexp_tokenize() to create a tokenizer that tokenizes the various kinds of punctuation in this text. Use one multi-line regular expression, with inline comments, using the verbose flag (?x).\n",
      "* Use nltk.regexp_tokenize() to create a tokenizer that tokenizes the following kinds of expression: monetary amounts; dates; names of people and organizations."
     ]
    },
    {
     "cell_type": "code",
     "collapsed": false,
     "input": [
      "def loadFile(fileName):\n",
      "    with open(fileName,'r') as f:\n",
      "        contents = f.read()\n",
      "        return contents\n",
      "text =  loadFile('corpus.txt')"
     ],
     "language": "python",
     "metadata": {},
     "outputs": [],
     "prompt_number": 35
    },
    {
     "cell_type": "code",
     "collapsed": false,
     "input": [
      "pattern = r'''(?x)  #set to verbose\n",
      "  [^\\w\\s]|_  #no alpha-numeric no space\n",
      "'''\n",
      "nltk.regexp_tokenize(text,pattern)[:3]"
     ],
     "language": "python",
     "metadata": {},
     "outputs": [
      {
       "metadata": {},
       "output_type": "pyout",
       "prompt_number": 37,
       "text": [
        "[',', ',', ',']"
       ]
      }
     ],
     "prompt_number": 37
    },
    {
     "cell_type": "code",
     "collapsed": false,
     "input": [
      "pattern = r'''(?x)  #set to verbose\n",
      "  [A-Z][a-z]+ #organization Name\n",
      "  | [A-Z][a-z]+\\s[A-Z][a-z]+  #People name\n",
      "'''\n",
      "nltk.regexp_tokenize(text,pattern)[:5]"
     ],
     "language": "python",
     "metadata": {},
     "outputs": [
      {
       "metadata": {},
       "output_type": "pyout",
       "prompt_number": 52,
       "text": [
        "['Windows', 'Mac', 'Linux', 'Best', 'Python']"
       ]
      }
     ],
     "prompt_number": 52
    },
    {
     "cell_type": "code",
     "collapsed": false,
     "input": [
      "pattern = r'''(?x)  #set to verbose\n",
      "    ^(19|20)\\d\\d[- /.](0[1-9]|1[012])[- /.](0[1-9]|[12][0-9]|3[01])$  #date regex\n",
      "    \\$?\\d+(\\.\\d+) #currency regex\n",
      "'''"
     ],
     "language": "python",
     "metadata": {},
     "outputs": []
    },
    {
     "cell_type": "markdown",
     "metadata": {},
     "source": [
      "> Rewrite the following loop as a list comprehension:\n",
      "sent = ['The', 'dog', 'gave', 'John', 'the', 'newspaper']\n",
      "<code>\n",
      "result = []\n",
      "for word in sent:\n",
      "    word_len = (word, len(word))\n",
      "    result.append(word_len)\n",
      "result\n",
      "[('The', 3), ('dog', 3), ('gave', 4), ('John', 4), ('the', 3), ('newspaper', 9)]\n",
      "</code>"
     ]
    },
    {
     "cell_type": "code",
     "collapsed": false,
     "input": [
      "sent = ['The', 'dog', 'gave', 'John', 'the', 'newspaper']\n",
      "print [(word, len(word)) for word in sent]"
     ],
     "language": "python",
     "metadata": {},
     "outputs": [
      {
       "output_type": "stream",
       "stream": "stdout",
       "text": [
        "[('The', 3), ('dog', 3), ('gave', 4), ('John', 4), ('the', 3), ('newspaper', 9)]\n"
       ]
      }
     ],
     "prompt_number": 54
    }
   ],
   "metadata": {}
  }
 ]
}