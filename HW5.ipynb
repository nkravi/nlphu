{
 "metadata": {
  "name": ""
 },
 "nbformat": 3,
 "nbformat_minor": 0,
 "worksheets": [
  {
   "cells": [
    {
     "cell_type": "markdown",
     "metadata": {},
     "source": [
      "###Exercise from http://www.nltk.org/book_1ed/ch06.html\n",
      "###Author : Nirmal kumar Ravi"
     ]
    },
    {
     "cell_type": "markdown",
     "metadata": {},
     "source": [
      "> Read up on one of the language technologies mentioned in this section, such as word sense disambiguation, semantic role labeling, question answering, machine translation, named entity detection. Find out what type and quantity of annotated data is required for developing such systems. Why do you think a large amount of data is required?"
     ]
    },
    {
     "cell_type": "markdown",
     "metadata": {},
     "source": [
      "* Lets discuss on \"question answering\". For eg If you are running a customer service and you have similar set of problems which most of your customer face a question answer system can be built \n",
      "* To build this system we need to train our model on what category to classify the problem to.\n",
      "* After classification we may need further classification or It can directly point to the answer\n",
      "* For eg: :Lets assume that we are building a decision tree. Then we may ask our customer questions like \"does the machine produce sound while running?\". Based on the answer we take our nexr step\n",
      "* To train any model In our case a decision tree we need data in large quantity.\n",
      "* With increase in data our model learns all the possible problem that can occur and solution for it"
     ]
    },
    {
     "cell_type": "markdown",
     "metadata": {},
     "source": [
      "> Using any of the three classifiers described in this chapter, and any features you can think of, build the best name gender classifier you can. Begin by splitting the Names Corpus into three subsets: 500 words for the test set, 500 words for the dev-test set, and the remaining 6900 words for the training set. Then, starting with the example name gender classifier, make incremental improvements. Use the dev-test set to check your progress. Once you are satisfied with your classifier, check its final performance on the test set. How does the performance on the test set compare to the performance on the dev-test set? Is this what you'd expect?"
     ]
    },
    {
     "cell_type": "code",
     "collapsed": false,
     "input": [
      "#import data\n",
      "from nltk.corpus import names\n",
      "import random\n",
      "names = ([(name, 'male') for name in names.words('male.txt')] +\n",
      "         [(name, 'female') for name in names.words('female.txt')])\n",
      "random.shuffle(names)"
     ],
     "language": "python",
     "metadata": {},
     "outputs": [],
     "prompt_number": 6
    },
    {
     "cell_type": "code",
     "collapsed": false,
     "input": [
      "#classifier 1 \n",
      "# classify with just last letter of name\n",
      "def gender_features(word):\n",
      "    return {'last_letter': word[-1]}"
     ],
     "language": "python",
     "metadata": {},
     "outputs": [],
     "prompt_number": 41
    },
    {
     "cell_type": "code",
     "collapsed": false,
     "input": [
      "#using classifier 1 to build model\n",
      "import nltk\n",
      "\n",
      "featuresets = [(gender_features(n), g) for (n,g) in names]\n",
      "test_set , dev_test_set , train_set = featuresets[:500],featuresets[500:1000],featuresets[1000:]\n",
      "classifier = nltk.NaiveBayesClassifier.train(train_set)"
     ],
     "language": "python",
     "metadata": {},
     "outputs": [],
     "prompt_number": 42
    },
    {
     "cell_type": "code",
     "collapsed": false,
     "input": [
      "print nltk.classify.accuracy(classifier, dev_test_set)\n",
      "classifier.show_most_informative_features(5)"
     ],
     "language": "python",
     "metadata": {},
     "outputs": [
      {
       "output_type": "stream",
       "stream": "stdout",
       "text": [
        "0.76\n",
        "Most Informative Features\n",
        "             last_letter = u'a'           female : male   =     35.0 : 1.0\n",
        "             last_letter = u'k'             male : female =     30.2 : 1.0\n",
        "             last_letter = u'p'             male : female =     19.4 : 1.0\n",
        "             last_letter = u'f'             male : female =     13.7 : 1.0\n",
        "             last_letter = u'v'             male : female =     10.3 : 1.0\n"
       ]
      }
     ],
     "prompt_number": 43
    },
    {
     "cell_type": "code",
     "collapsed": false,
     "input": [
      "print nltk.classify.accuracy(classifier, test_set)"
     ],
     "language": "python",
     "metadata": {},
     "outputs": [
      {
       "output_type": "stream",
       "stream": "stdout",
       "text": [
        "0.788\n"
       ]
      }
     ],
     "prompt_number": 44
    },
    {
     "cell_type": "code",
     "collapsed": false,
     "input": [
      "#classifier 2 \n",
      "# take bigrams instead\n",
      "def gender_features(word):\n",
      "    lst = []\n",
      "    i = 0\n",
      "    for w in nltk.bigrams(word):\n",
      "        lst += [('b'+str(i),(w[0]+w[1]).lower())]\n",
      "        i = i+1\n",
      "    return dict(lst)\n",
      "\n",
      "gender_features('Nirmal')"
     ],
     "language": "python",
     "metadata": {},
     "outputs": [
      {
       "metadata": {},
       "output_type": "pyout",
       "prompt_number": 37,
       "text": [
        "{'b0': 'ni', 'b1': 'ir', 'b2': 'rm', 'b3': 'ma', 'b4': 'al'}"
       ]
      }
     ],
     "prompt_number": 37
    },
    {
     "cell_type": "code",
     "collapsed": false,
     "input": [
      "#using classifier 2 to build model\n",
      "import nltk\n",
      "\n",
      "featuresets = [(gender_features(n), g) for (n,g) in names]\n",
      "test_set , dev_test_set , train_set = featuresets[:500],featuresets[500:1000],featuresets[1000:]\n",
      "classifier = nltk.NaiveBayesClassifier.train(train_set)"
     ],
     "language": "python",
     "metadata": {},
     "outputs": [],
     "prompt_number": 38
    },
    {
     "cell_type": "code",
     "collapsed": false,
     "input": [
      "print nltk.classify.accuracy(classifier, dev_test_set)\n",
      "classifier.show_most_informative_features(5)"
     ],
     "language": "python",
     "metadata": {},
     "outputs": [
      {
       "output_type": "stream",
       "stream": "stdout",
       "text": [
        "0.788\n",
        "Most Informative Features\n",
        "                      b5 = u'ta'          female : male   =     19.7 : 1.0\n",
        "                      b0 = u'hu'            male : female =     17.0 : 1.0\n",
        "                      b2 = u'rk'            male : female =     16.8 : 1.0\n",
        "                      b5 = u'rd'            male : female =     16.2 : 1.0\n",
        "                      b3 = u'to'            male : female =     16.1 : 1.0\n"
       ]
      }
     ],
     "prompt_number": 39
    },
    {
     "cell_type": "code",
     "collapsed": false,
     "input": [
      "print nltk.classify.accuracy(classifier, test_set)"
     ],
     "language": "python",
     "metadata": {},
     "outputs": [
      {
       "output_type": "stream",
       "stream": "stdout",
       "text": [
        "0.814\n"
       ]
      }
     ],
     "prompt_number": 40
    },
    {
     "cell_type": "markdown",
     "metadata": {},
     "source": [
      "* Our second classifier using bigrams proves to be more accurate\n",
      "* Last few letters are more significant for female names\n",
      "* First few letters are more significant for male names"
     ]
    },
    {
     "cell_type": "markdown",
     "metadata": {},
     "source": [
      "> The Senseval 2 Corpus contains data intended to train word-sense disambiguation classifiers. It contains data for four words: hard, interest, line, and serve. Choose one of these four words, and load the corresponding data:\n",
      "Using this dataset, build a classifier that predicts the correct sense tag for a given instance. See the corpus HOWTO at http://www.nltk.org/howto for information on using the instance objects returned by the Senseval 2 Corpus."
     ]
    },
    {
     "cell_type": "code",
     "collapsed": false,
     "input": [
      "from nltk.corpus import senseval\n",
      "instances = senseval.instances('hard.pos')\n",
      "size = int(len(instances) * 0.1)\n",
      "train_set, test_set = instances[size:], instances[:size]"
     ],
     "language": "python",
     "metadata": {},
     "outputs": [],
     "prompt_number": 45
    },
    {
     "cell_type": "code",
     "collapsed": false,
     "input": [
      "test_set[1]"
     ],
     "language": "python",
     "metadata": {},
     "outputs": [
      {
       "metadata": {},
       "output_type": "pyout",
       "prompt_number": 47,
       "text": [
        "SensevalInstance(word=u'hard-a', position=10, context=[('clever', 'NNP'), ('white', 'NNP'), ('house', 'NNP'), ('``', '``'), ('spin', 'VB'), ('doctors', 'NNS'), (\"''\", \"''\"), ('are', 'VBP'), ('having', 'VBG'), ('a', 'DT'), ('hard', 'JJ'), ('time', 'NN'), ('helping', 'VBG'), ('president', 'NNP'), ('bush', 'NNP'), ('explain', 'VB'), ('away', 'RB'), ('the', 'DT'), ('economic', 'JJ'), ('bashing', 'NN'), ('that', 'IN'), ('low-and', 'JJ'), ('middle-income', 'JJ'), ('workers', 'NNS'), ('are', 'VBP'), ('taking', 'VBG'), ('these', 'DT'), ('days', 'NNS'), ('.', '.')], senses=('HARD1',))"
       ]
      }
     ],
     "prompt_number": 47
    },
    {
     "cell_type": "markdown",
     "metadata": {},
     "source": [
      "> Using the movie review document classifier discussed in this chapter, generate a list of the 30 features that the classifier finds to be most informative. Can you explain why these particular features are informative? Do you find any of them surprising?"
     ]
    },
    {
     "cell_type": "code",
     "collapsed": false,
     "input": [
      "from nltk.corpus import movie_reviews\n",
      "documents = [(list(movie_reviews.words(fileid)), category)\n",
      "             for category in movie_reviews.categories()\n",
      "             for fileid in movie_reviews.fileids(category)]\n",
      "random.shuffle(documents)"
     ],
     "language": "python",
     "metadata": {},
     "outputs": [],
     "prompt_number": 48
    },
    {
     "cell_type": "code",
     "collapsed": false,
     "input": [
      "all_words = nltk.FreqDist(w.lower() for w in movie_reviews.words())\n",
      "word_features = all_words.keys()[:2000]\n",
      "def document_features(document):\n",
      "    document_words = set(document)\n",
      "    features = {}\n",
      "    for word in word_features:\n",
      "        features['contains(%s)' % word] = (word in document_words)\n",
      "    return features"
     ],
     "language": "python",
     "metadata": {},
     "outputs": [],
     "prompt_number": 49
    },
    {
     "cell_type": "code",
     "collapsed": false,
     "input": [
      "featuresets = [(document_features(d), c) for (d,c) in documents]\n",
      "train_set, test_set = featuresets[100:], featuresets[:100]\n",
      "classifier = nltk.NaiveBayesClassifier.train(train_set)"
     ],
     "language": "python",
     "metadata": {},
     "outputs": [],
     "prompt_number": 51
    },
    {
     "cell_type": "code",
     "collapsed": false,
     "input": [
      "print nltk.classify.accuracy(classifier, test_set)"
     ],
     "language": "python",
     "metadata": {},
     "outputs": [
      {
       "output_type": "stream",
       "stream": "stdout",
       "text": [
        "0.77\n"
       ]
      }
     ],
     "prompt_number": 52
    },
    {
     "cell_type": "code",
     "collapsed": false,
     "input": [
      "classifier.show_most_informative_features(30)"
     ],
     "language": "python",
     "metadata": {},
     "outputs": [
      {
       "output_type": "stream",
       "stream": "stdout",
       "text": [
        "Most Informative Features\n",
        "          contains(sans) = True              neg : pos    =      9.0 : 1.0"
       ]
      },
      {
       "output_type": "stream",
       "stream": "stdout",
       "text": [
        "\n",
        "     contains(dismissed) = True              pos : neg    =      7.0 : 1.0\n",
        "    contains(mediocrity) = True              neg : pos    =      7.0 : 1.0\n",
        "   contains(bruckheimer) = True              neg : pos    =      6.3 : 1.0\n",
        "         contains(wires) = True              neg : pos    =      6.3 : 1.0\n",
        "     contains(uplifting) = True              pos : neg    =      5.9 : 1.0\n",
        "        contains(doubts) = True              pos : neg    =      5.8 : 1.0\n",
        "           contains(ugh) = True              neg : pos    =      5.8 : 1.0\n",
        "       contains(topping) = True              pos : neg    =      5.7 : 1.0\n",
        "          contains(wits) = True              pos : neg    =      5.7 : 1.0\n",
        "        contains(fabric) = True              pos : neg    =      5.7 : 1.0\n",
        "          contains(lang) = True              pos : neg    =      5.7 : 1.0\n",
        "           contains(hal) = True              neg : pos    =      5.6 : 1.0\n",
        "          contains(hugo) = True              pos : neg    =      4.6 : 1.0\n",
        "         contains(tripe) = True              neg : pos    =      4.6 : 1.0\n",
        "  contains(effortlessly) = True              pos : neg    =      4.4 : 1.0\n",
        "      contains(matheson) = True              pos : neg    =      4.4 : 1.0\n",
        "         contains(spins) = True              pos : neg    =      4.4 : 1.0\n",
        "          contains(wang) = True              pos : neg    =      4.4 : 1.0\n",
        "       contains(maxwell) = True              neg : pos    =      4.3 : 1.0\n",
        "         contains(locks) = True              neg : pos    =      4.3 : 1.0\n",
        "    contains(cronenberg) = True              pos : neg    =      4.2 : 1.0\n",
        "       contains(admired) = True              pos : neg    =      4.2 : 1.0\n",
        "      contains(attorney) = True              pos : neg    =      3.9 : 1.0\n",
        "     contains(testament) = True              pos : neg    =      3.9 : 1.0\n",
        "          contains(sant) = True              pos : neg    =      3.8 : 1.0\n",
        "         contains(gripe) = True              pos : neg    =      3.7 : 1.0\n",
        "       contains(bandits) = True              pos : neg    =      3.7 : 1.0\n",
        "     contains(patriarch) = True              pos : neg    =      3.7 : 1.0\n",
        "   contains(voyeuristic) = True              pos : neg    =      3.7 : 1.0\n"
       ]
      }
     ],
     "prompt_number": 53
    },
    {
     "cell_type": "markdown",
     "metadata": {},
     "source": [
      "* Words contains more positive sentiment are good classifier\n"
     ]
    },
    {
     "cell_type": "markdown",
     "metadata": {},
     "source": [
      "> Select one of the classification tasks described in this chapter, such as name gender detection, document classification, part-of-speech tagging, or dialog act classification. Using the same training and test data, and the same feature extractor, build three classifiers for the task: a decision tree, a naive Bayes classifier, and a Maximum Entropy classifier. Compare the performance of the three classifiers on your selected task. How do you think that your results might be different if you used a different feature extractor?"
     ]
    },
    {
     "cell_type": "code",
     "collapsed": false,
     "input": [
      "#using classifier 1 to build model\n",
      "import nltk\n",
      "def gender_features(word):\n",
      "    return {'last_letter': word[-1]}"
     ],
     "language": "python",
     "metadata": {},
     "outputs": [],
     "prompt_number": 54
    },
    {
     "cell_type": "code",
     "collapsed": false,
     "input": [
      "featuresets = [(gender_features(n), g) for (n,g) in names]\n",
      "test_set , dev_test_set , train_set = featuresets[:500],featuresets[500:1000],featuresets[1000:]\n",
      "nbclassifier = nltk.NaiveBayesClassifier.train(train_set)"
     ],
     "language": "python",
     "metadata": {},
     "outputs": [],
     "prompt_number": 56
    },
    {
     "cell_type": "code",
     "collapsed": false,
     "input": [
      "print nltk.classify.accuracy(nbclassifier, dev_test_set)"
     ],
     "language": "python",
     "metadata": {},
     "outputs": [
      {
       "output_type": "stream",
       "stream": "stdout",
       "text": [
        "0.76\n"
       ]
      }
     ],
     "prompt_number": 57
    },
    {
     "cell_type": "code",
     "collapsed": false,
     "input": [
      "treeclassifier = nltk.DecisionTreeClassifier.train(train_set)"
     ],
     "language": "python",
     "metadata": {},
     "outputs": [],
     "prompt_number": 58
    },
    {
     "cell_type": "code",
     "collapsed": false,
     "input": [
      "print nltk.classify.accuracy(treeclassifier, dev_test_set)"
     ],
     "language": "python",
     "metadata": {},
     "outputs": [
      {
       "output_type": "stream",
       "stream": "stdout",
       "text": [
        "0.76\n"
       ]
      }
     ],
     "prompt_number": 59
    },
    {
     "cell_type": "markdown",
     "metadata": {},
     "source": [
      "* We have taken names corpus\n",
      "* Both classifier shows same accuracy"
     ]
    },
    {
     "cell_type": "markdown",
     "metadata": {},
     "source": [
      "> The synonyms strong and powerful pattern differently (try combining them with chip and sales). What features are relevant in this distinction? Build a classifier that predicts when each word should be used."
     ]
    },
    {
     "cell_type": "code",
     "collapsed": false,
     "input": [],
     "language": "python",
     "metadata": {},
     "outputs": []
    }
   ],
   "metadata": {}
  }
 ]
}