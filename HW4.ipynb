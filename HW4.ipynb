{
 "metadata": {
  "name": ""
 },
 "nbformat": 3,
 "nbformat_minor": 0,
 "worksheets": [
  {
   "cells": [
    {
     "cell_type": "markdown",
     "metadata": {},
     "source": [
      "###Exercise from http://www.nltk.org/book_1ed/ch05.html\n",
      "###Author : Nirmal kumar Ravi"
     ]
    },
    {
     "cell_type": "markdown",
     "metadata": {},
     "source": [
      "> Tokenize and tag the following sentence: They wind back the clock, while we chase after the wind. What different pronunciations and parts of speech are involved?"
     ]
    },
    {
     "cell_type": "code",
     "collapsed": false,
     "input": [
      "import nltk\n",
      "\n",
      "text = nltk.word_tokenize(\"They wind back the clock, while we chase after the wind\")\n",
      "tagged = nltk.pos_tag(text)\n",
      "for i in range(0,len(tagged)):\n",
      "    txt,tag = tagged[i]\n",
      "    print txt,tag,nltk.help.upenn_tagset(tag)"
     ],
     "language": "python",
     "metadata": {},
     "outputs": [
      {
       "output_type": "stream",
       "stream": "stdout",
       "text": [
        "They PRPPRP: pronoun, personal\n",
        "    hers herself him himself hisself it itself me myself one oneself ours\n",
        "    ourselves ownself self she thee theirs them themselves they thou thy us\n",
        " None\n",
        "wind VBPVBP: verb, present tense, not 3rd person singular\n",
        "    predominate wrap resort sue twist spill cure lengthen brush terminate\n",
        "    appear tend stray glisten obtain comprise detest tease attract\n",
        "    emphasize mold postpone sever return wag ...\n",
        " None\n",
        "back RBRB: adverb\n",
        "    occasionally unabatingly maddeningly adventurously professedly\n",
        "    stirringly prominently technologically magisterially predominately\n",
        "    swiftly fiscally pitilessly ...\n",
        " None\n",
        "the DTDT: determiner\n",
        "    all an another any both del each either every half la many much nary\n",
        "    neither no some such that the them these this those\n",
        " None\n",
        "clock NNNN: noun, common, singular or mass\n",
        "    common-carrier cabbage knuckle-duster Casino afghan shed thermostat\n",
        "    investment slide humour falloff slick wind hyena override subhumanity\n",
        "    machinist ...\n",
        " None\n",
        ", ,,: comma\n",
        "    ,\n",
        " None\n",
        "while ININ: preposition or conjunction, subordinating\n",
        "    astride among uppon whether out inside pro despite on by throughout\n",
        "    below within for towards near behind atop around if like until below\n",
        "    next into if beside ...\n",
        " None\n",
        "we PRPPRP: pronoun, personal\n",
        "    hers herself him himself hisself it itself me myself one oneself ours\n",
        "    ourselves ownself self she thee theirs them themselves they thou thy us\n",
        " None\n",
        "chase VBPVBP: verb, present tense, not 3rd person singular\n",
        "    predominate wrap resort sue twist spill cure lengthen brush terminate\n",
        "    appear tend stray glisten obtain comprise detest tease attract\n",
        "    emphasize mold postpone sever return wag ...\n",
        " None\n",
        "after ININ: preposition or conjunction, subordinating\n",
        "    astride among uppon whether out inside pro despite on by throughout\n",
        "    below within for towards near behind atop around if like until below\n",
        "    next into if beside ...\n",
        " None\n",
        "the DTDT: determiner\n",
        "    all an another any both del each either every half la many much nary\n",
        "    neither no some such that the them these this those\n",
        " None\n",
        "wind NNNN: noun, common, singular or mass\n",
        "    common-carrier cabbage knuckle-duster Casino afghan shed thermostat\n",
        "    investment slide humour falloff slick wind hyena override subhumanity\n",
        "    machinist ...\n",
        " None\n"
       ]
      }
     ],
     "prompt_number": 11
    },
    {
     "cell_type": "markdown",
     "metadata": {},
     "source": [
      "> Review the mappings in 5.4. Discuss any other examples of mappings you can think of. What type of information do they map from and to?"
     ]
    },
    {
     "cell_type": "code",
     "collapsed": false,
     "input": [],
     "language": "python",
     "metadata": {},
     "outputs": []
    },
    {
     "cell_type": "markdown",
     "metadata": {},
     "source": [
      "> Using the Python interpreter in interactive mode, experiment with the dictionary examples in this chapter. Create a dictionary d, and add some entries. What happens if you try to access a non-existent entry, e.g. d['xyz']?"
     ]
    },
    {
     "cell_type": "code",
     "collapsed": false,
     "input": [
      "d = dict()\n",
      "#inserts\n",
      "d['name'] = 'Nirmal kumar Ravi'\n",
      "d['job'] = 'Software Developer'\n",
      "#read\n",
      "print 'My name is %s and I work as %s'%(d['name'],d['job'])\n",
      "#access field \n",
      "if 'intrestedin' not in d:\n",
      "    print \"We will get a key error if we try d['intrestedin']\""
     ],
     "language": "python",
     "metadata": {},
     "outputs": [
      {
       "output_type": "stream",
       "stream": "stdout",
       "text": [
        "My name is Nirmal kumar Ravi and I work as Software Developer\n",
        "We will get a key error if we try d['intrestedin']\n"
       ]
      }
     ],
     "prompt_number": 14
    },
    {
     "cell_type": "markdown",
     "metadata": {},
     "source": [
      "> Try deleting an element from a dictionary d, using the syntax del d['abc']. Check that the item was deleted."
     ]
    },
    {
     "cell_type": "code",
     "collapsed": false,
     "input": [
      "del d['job'] \n",
      "if 'job' not in d:\n",
      "    print 'deleted job'"
     ],
     "language": "python",
     "metadata": {},
     "outputs": [
      {
       "output_type": "stream",
       "stream": "stdout",
       "text": [
        "deleted job\n"
       ]
      }
     ],
     "prompt_number": 15
    },
    {
     "cell_type": "markdown",
     "metadata": {},
     "source": [
      "> Create two dictionaries, d1 and d2, and add some entries to each. Now issue the command d1.update(d2). What did this do? What might it be useful for?"
     ]
    },
    {
     "cell_type": "code",
     "collapsed": false,
     "input": [
      "d1 = {'wow': 3, 'cat':2}\n",
      "d2 = {'dog':4, 'cat':4,'rat':2}\n",
      "\n",
      "d1.update(d2)\n",
      "print d1\n"
     ],
     "language": "python",
     "metadata": {},
     "outputs": [
      {
       "output_type": "stream",
       "stream": "stdout",
       "text": [
        "{'wow': 3, 'dog': 4, 'rat': 2, 'cat': 4}\n"
       ]
      }
     ],
     "prompt_number": 19
    },
    {
     "cell_type": "markdown",
     "metadata": {},
     "source": [
      "* the keys in d1 are updated by values in d2\n",
      "* can be used for combine operation"
     ]
    }
   ],
   "metadata": {}
  }
 ]
}