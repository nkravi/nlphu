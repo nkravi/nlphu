{
 "metadata": {
  "name": ""
 },
 "nbformat": 3,
 "nbformat_minor": 0,
 "worksheets": [
  {
   "cells": [
    {
     "cell_type": "markdown",
     "metadata": {},
     "source": [
      "Exercise from http://www.nltk.org/book_1ed/ch01.html\n",
      "Author : Nirmal kumar Ravi"
     ]
    },
    {
     "cell_type": "raw",
     "metadata": {},
     "source": [
      "Try using the Python interpreter as a calculator, and typing expressions like 12 / (4 + 1)."
     ]
    },
    {
     "cell_type": "code",
     "collapsed": false,
     "input": [
      "12/(4+1)"
     ],
     "language": "python",
     "metadata": {},
     "outputs": [
      {
       "metadata": {},
       "output_type": "pyout",
       "prompt_number": 1,
       "text": [
        "2"
       ]
      }
     ],
     "prompt_number": 1
    },
    {
     "cell_type": "raw",
     "metadata": {},
     "source": [
      "Given an alphabet of 26 letters, there are 26 to the power 10, or 26 ** 10, ten-letter strings we can form. That works out to 141167095653376L (the L at the end just indicates that this is Python's long-number format). How many hundred-letter strings are possible?"
     ]
    },
    {
     "cell_type": "code",
     "collapsed": false,
     "input": [
      "26 ** 100"
     ],
     "language": "python",
     "metadata": {},
     "outputs": [
      {
       "metadata": {},
       "output_type": "pyout",
       "prompt_number": 2,
       "text": [
        "3142930641582938830174357788501626427282669988762475256374173175398995908420104023465432599069702289330964075081611719197835869803511992549376L"
       ]
      }
     ],
     "prompt_number": 2
    },
    {
     "cell_type": "raw",
     "metadata": {},
     "source": [
      "The Python multiplication operation can be applied to lists. What happens when you type ['Monty', 'Python'] * 20, or 3 * sent1?\n",
      "Answer: The list item(s) gets multiplied to N number of times. Where N is an integer."
     ]
    },
    {
     "cell_type": "code",
     "collapsed": false,
     "input": [
      "['Monty', 'Python'] * 20"
     ],
     "language": "python",
     "metadata": {},
     "outputs": [
      {
       "metadata": {},
       "output_type": "pyout",
       "prompt_number": 3,
       "text": [
        "['Monty',\n",
        " 'Python',\n",
        " 'Monty',\n",
        " 'Python',\n",
        " 'Monty',\n",
        " 'Python',\n",
        " 'Monty',\n",
        " 'Python',\n",
        " 'Monty',\n",
        " 'Python',\n",
        " 'Monty',\n",
        " 'Python',\n",
        " 'Monty',\n",
        " 'Python',\n",
        " 'Monty',\n",
        " 'Python',\n",
        " 'Monty',\n",
        " 'Python',\n",
        " 'Monty',\n",
        " 'Python',\n",
        " 'Monty',\n",
        " 'Python',\n",
        " 'Monty',\n",
        " 'Python',\n",
        " 'Monty',\n",
        " 'Python',\n",
        " 'Monty',\n",
        " 'Python',\n",
        " 'Monty',\n",
        " 'Python',\n",
        " 'Monty',\n",
        " 'Python',\n",
        " 'Monty',\n",
        " 'Python',\n",
        " 'Monty',\n",
        " 'Python',\n",
        " 'Monty',\n",
        " 'Python',\n",
        " 'Monty',\n",
        " 'Python']"
       ]
      }
     ],
     "prompt_number": 3
    },
    {
     "cell_type": "code",
     "collapsed": false,
     "input": [
      "sent1 = ['Call', 'me', 'Ishmael', '.']\n",
      "3 * sent1"
     ],
     "language": "python",
     "metadata": {},
     "outputs": [
      {
       "metadata": {},
       "output_type": "pyout",
       "prompt_number": 4,
       "text": [
        "['Call',\n",
        " 'me',\n",
        " 'Ishmael',\n",
        " '.',\n",
        " 'Call',\n",
        " 'me',\n",
        " 'Ishmael',\n",
        " '.',\n",
        " 'Call',\n",
        " 'me',\n",
        " 'Ishmael',\n",
        " '.']"
       ]
      }
     ],
     "prompt_number": 4
    },
    {
     "cell_type": "raw",
     "metadata": {},
     "source": [
      "Review 1.1 on computing with language. How many words are there in text2? How many distinct words are there?"
     ]
    },
    {
     "cell_type": "code",
     "collapsed": false,
     "input": [
      "import nltk\n",
      "nltk.download()"
     ],
     "language": "python",
     "metadata": {},
     "outputs": [
      {
       "output_type": "stream",
       "stream": "stdout",
       "text": [
        "showing info http://www.nltk.org/nltk_data/\n"
       ]
      },
      {
       "metadata": {},
       "output_type": "pyout",
       "prompt_number": 5,
       "text": [
        "True"
       ]
      }
     ],
     "prompt_number": 5
    },
    {
     "cell_type": "code",
     "collapsed": false,
     "input": [
      "from nltk.book import *"
     ],
     "language": "python",
     "metadata": {},
     "outputs": [
      {
       "output_type": "stream",
       "stream": "stdout",
       "text": [
        "*** Introductory Examples for the NLTK Book ***\n",
        "Loading text1, ..., text9 and sent1, ..., sent9\n",
        "Type the name of the text or sentence to view it.\n",
        "Type: 'texts()' or 'sents()' to list the materials.\n",
        "text1:"
       ]
      },
      {
       "output_type": "stream",
       "stream": "stdout",
       "text": [
        " Moby Dick by Herman Melville 1851\n",
        "text2:"
       ]
      },
      {
       "output_type": "stream",
       "stream": "stdout",
       "text": [
        " Sense and Sensibility by Jane Austen 1811\n",
        "text3:"
       ]
      },
      {
       "output_type": "stream",
       "stream": "stdout",
       "text": [
        " The Book of Genesis\n",
        "text4:"
       ]
      },
      {
       "output_type": "stream",
       "stream": "stdout",
       "text": [
        " Inaugural Address Corpus\n",
        "text5:"
       ]
      },
      {
       "output_type": "stream",
       "stream": "stdout",
       "text": [
        " Chat Corpus\n",
        "text6:"
       ]
      },
      {
       "output_type": "stream",
       "stream": "stdout",
       "text": [
        " Monty Python and the Holy Grail\n",
        "text7:"
       ]
      },
      {
       "output_type": "stream",
       "stream": "stdout",
       "text": [
        " Wall Street Journal\n",
        "text8: Personals Corpus\n",
        "text9:"
       ]
      },
      {
       "output_type": "stream",
       "stream": "stdout",
       "text": [
        " The Man Who Was Thursday by G . K . Chesterton 1908\n"
       ]
      }
     ],
     "prompt_number": 6
    },
    {
     "cell_type": "code",
     "collapsed": false,
     "input": [
      "print 'There are %d distict words in text2'%(len(set(text2)))"
     ],
     "language": "python",
     "metadata": {},
     "outputs": [
      {
       "output_type": "stream",
       "stream": "stdout",
       "text": [
        "There are 6833 distict words in text2\n"
       ]
      }
     ],
     "prompt_number": 7
    },
    {
     "cell_type": "raw",
     "metadata": {},
     "source": [
      "Compare the lexical diversity scores for humor and romance fiction in 1.1. Which genre is more lexically diverse?"
     ]
    },
    {
     "cell_type": "code",
     "collapsed": false,
     "input": [],
     "language": "python",
     "metadata": {},
     "outputs": []
    }
   ],
   "metadata": {}
  }
 ]
}