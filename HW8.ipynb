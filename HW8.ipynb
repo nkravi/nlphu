{
 "metadata": {
  "name": ""
 },
 "nbformat": 3,
 "nbformat_minor": 0,
 "worksheets": [
  {
   "cells": [
    {
     "cell_type": "markdown",
     "metadata": {},
     "source": [
      "###Exercise from http://www.nltk.org/book_1ed/ch09.html\n",
      "###Author : Nirmal kumar Ravi"
     ]
    },
    {
     "cell_type": "markdown",
     "metadata": {},
     "source": [
      "> What constraints are required to correctly parse word sequences like I am happy and she is happy but not *you is happy or *they am happy? Implement two solutions for the present tense paradigm of the verb be in English, first taking Grammar (8) as your starting point, and then taking Grammar (20) as the starting point."
     ]
    },
    {
     "cell_type": "code",
     "collapsed": false,
     "input": [
      "S -> NP_SG V\n",
      "S -> NP_SG2 V\n",
      "NP_SG -> N_SG Det_SG\n",
      "NP_PL -> N_SG2 Det_SG2 \n",
      "VP -> V\n",
      "\n",
      "\n",
      "Det_SG -> 'AM'\n",
      "Det_SG2 -> 'IS'\n",
      "N_SG -> 'I'\n",
      "N_SG2 -> 'HE' | 'SHE'\n",
      "V -> 'HAPPY'\n",
      "\n"
     ],
     "language": "python",
     "metadata": {},
     "outputs": []
    },
    {
     "cell_type": "code",
     "collapsed": false,
     "input": [
      "\t\n",
      "S                    -> NP[AGR=?n] VP[AGR=?n]\n",
      "NP[AGR=?n]           -> PropN[AGR=?n]\n",
      "VP[TENSE=?t, AGR=?n] -> Cop[TENSE=?t, AGR=?n] Adj\n",
      "\n",
      "Cop[TENSE=pres,  AGR=[NUM=sg, PER=3]] -> 'is'\n",
      "PropN[AGR=[NUM=sg, PER=3]]            -> 'He'\n",
      "Adj                                   -> 'happy'\n"
     ],
     "language": "python",
     "metadata": {},
     "outputs": []
    },
    {
     "cell_type": "markdown",
     "metadata": {},
     "source": [
      "> Develop a variant of grammar in 9.1 that uses a feature count to make the distinctions shown below:"
     ]
    },
    {
     "cell_type": "markdown",
     "metadata": {},
     "source": [
      "* The boy sings.\t\t\n",
      "* *Boy sings."
     ]
    },
    {
     "cell_type": "code",
     "collapsed": false,
     "input": [
      "Det[NUM=sg] -> 'the'\n",
      "N[NUM=sg] -> 'boy'\n",
      "V[NUM=sg] -> 'runs'\n",
      "\n",
      "S -> NP[NUM=?n] VP[NUM=?n]\n",
      "NP[NUM=?n] -> Det[NUM=?n] N[NUM=?n]\n",
      "VP[NUM=?n] -> V[NUM=?n]"
     ],
     "language": "python",
     "metadata": {},
     "outputs": []
    },
    {
     "cell_type": "markdown",
     "metadata": {},
     "source": [
      "* The boys sing.\n",
      "* Boys sing."
     ]
    },
    {
     "cell_type": "code",
     "collapsed": false,
     "input": [
      "Det[NUM=pl] -> 'the'\n",
      "N[NUM=pl] -> 'boys'\n",
      "V -> 'sing'\n",
      "\n",
      "S -> NP[NUM=?n] VP\n",
      "NP[NUM=?n] -> Det[NUM=?n] N[NUM=?n] |  N[NUM=?n]\n",
      "VP -> V"
     ],
     "language": "python",
     "metadata": {},
     "outputs": []
    },
    {
     "cell_type": "markdown",
     "metadata": {},
     "source": [
      "* The boys sing.\n",
      "* Boys sing."
     ]
    },
    {
     "cell_type": "code",
     "collapsed": false,
     "input": [
      "Det[NUM=pl] -> 'the'\n",
      "N[NUM=pl] -> 'boys'\n",
      "V -> 'sing'\n",
      "\n",
      "S -> NP[NUM=?n] VP\n",
      "NP[NUM=?n] -> Det[NUM=?n] N[NUM=?n] |  N[NUM=?n]\n",
      "VP -> V"
     ],
     "language": "python",
     "metadata": {},
     "outputs": []
    },
    {
     "cell_type": "markdown",
     "metadata": {},
     "source": [
      "* The water is precious.\n",
      "* Water is precious."
     ]
    },
    {
     "cell_type": "code",
     "collapsed": false,
     "input": [
      "Det[NUM=pl] -> 'The'\n",
      "N[NUM=pl] -> 'water'\n",
      "V -> 'precious'\n",
      "\n",
      "S -> NP[NUM=?n] VP\n",
      "NP[NUM=?n] -> Det[NUM=?n] N[NUM=?n] |  N[NUM=?n]\n",
      "VP -> V"
     ],
     "language": "python",
     "metadata": {},
     "outputs": []
    },
    {
     "cell_type": "markdown",
     "metadata": {},
     "source": [
      "> Write a function subsumes() which holds of two feature structures fs1 and fs2 just in case fs1 subsumes fs2."
     ]
    },
    {
     "cell_type": "code",
     "collapsed": false,
     "input": [
      "#this is a pseudocode\n",
      "def subsumes(fs1,fs2):\n",
      "    var unification = fs2.unify(fs1)\n",
      "    if unification is_more_specific than fs1 and fs2:\n",
      "        return True\n",
      "    else\n",
      "        return False"
     ],
     "language": "python",
     "metadata": {},
     "outputs": []
    },
    {
     "cell_type": "markdown",
     "metadata": {},
     "source": [
      "> Modify the grammar illustrated in (30) to incorporate a bar feature for dealing with phrasal projections."
     ]
    },
    {
     "cell_type": "code",
     "collapsed": false,
     "input": [
      "\t\n",
      "VP[TENSE=?t, NUM=?n] -> V[SUBCAT=intrans, TENSE=?t, NUM=?n]\n",
      "VP[TENSE=?t, NUM=?n] -> V[SUBCAT=trans, TENSE=?t, NUM=?n] NP\n",
      "VP[TENSE=?t, NUM=?n] -> V[SUBCAT=clause, TENSE=?t, NUM=?n] SBar"
     ],
     "language": "python",
     "metadata": {},
     "outputs": []
    },
    {
     "cell_type": "markdown",
     "metadata": {},
     "source": [
      "> Modify the German grammar in 9.5 to incorporate the treatment of subcategorization presented in 9.3."
     ]
    },
    {
     "cell_type": "code",
     "collapsed": false,
     "input": [
      "nltk.data.show_cfg('grammars/book_grammars/german.fcfg')\n",
      "% start S\n",
      " # Grammar Productions\n",
      " S -> NP[CASE=nom, AGR=?a] VP[AGR=?a]\n",
      " NP[CASE=?c, AGR=?a] -> PRO[CASE=?c, AGR=?a] N[CASE=?c, AGR=?a]\n",
      " NP[CASE=?c, AGR=?a] -> Det[CASE=?c, AGR=?a] N[CASE=?c, AGR=?a]\n",
      " VP[AGR=?a] -> IV[AGR=?a] PRO[CASE=?c, AGR=?a]\n",
      " VP[AGR=?a] -> TV[OBJCASE=?c, AGR=?a] NP[CASE=?c]"
     ],
     "language": "python",
     "metadata": {},
     "outputs": []
    }
   ],
   "metadata": {}
  }
 ]
}